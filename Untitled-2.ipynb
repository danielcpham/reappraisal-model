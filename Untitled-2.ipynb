{
 "cells": [
  {
   "cell_type": "code",
   "execution_count": null,
   "metadata": {},
   "outputs": [
    {
     "name": "stdout",
     "output_type": "stream",
     "text": [
      "/home/ubuntu/reapp\n"
     ]
    }
   ],
   "source": [
    "!pwd"
   ]
  },
  {
   "cell_type": "code",
   "execution_count": null,
   "metadata": {},
   "outputs": [
    {
     "name": "stdout",
     "output_type": "stream",
     "text": [
      "The autoreload extension is already loaded. To reload it, use:\n",
      "  %reload_ext autoreload\n"
     ]
    }
   ],
   "source": [
    "%load_ext autoreload\n",
    "import torch\n",
    "\n",
    "# Define constants\n",
    "STRAT = 'far'\n",
    "NUM_FOLDS=5"
   ]
  },
  {
   "cell_type": "code",
   "execution_count": null,
   "metadata": {},
   "outputs": [],
   "source": [
    "%autoreload\n",
    "import boto3\n",
    "from reappraisalmodel.lightningreapp import LightningReapp\n",
    "from reappraisalmodel.ldhdata import LDHDataModule\n",
    "ldhdata = LDHDataModule(data_dir='.', strat='far')\n",
    "ldhdata.load_train_data()\n",
    "ldhdata.load_eval_data()\n",
    "\n",
    "model = LightningReapp.load_from_checkpoint(\"/home/ubuntu/reapp/lightning_logs/reapp_model/far_20210306_093658/checkpoints/epoch=21-step=1741.ckpt\")\n",
    "\n",
    "import datetime\n",
    "import torch\n",
    "import pytorch_lightning as lit\n",
    "from pytorch_lightning.callbacks import ModelCheckpoint, EarlyStopping\n",
    "from pytorch_lightning.loggers import TensorBoardLogger\n",
    "from torch.utils.data import DataLoader\n",
    "\n",
    "ldhdata.train_data.set_format(type='torch', columns=['input_ids', 'attention_mask'])\n",
    "train_data = ldhdata.train_data\n",
    "train_dl = DataLoader(train_data, batch_size=32, num_workers=4,shuffle=True)\n",
    "\n",
    "trainer = lit.Trainer(\n",
    "    precision=16,\n",
    "    val_check_interval=0.25,\n",
    "    gpus=1\n",
    ")\n",
    "\n",
    "results = trainer.test(model, train_dl)"
   ]
  }
 ],
 "metadata": {
  "kernelspec": {
   "display_name": "Python 3.8.8 64-bit ('reapp': conda)",
   "metadata": {
    "interpreter": {
     "hash": "c7780d81b6a011ba208b99800fa7028d3044aa9156778a9b539d49a3c08b3ba8"
    }
   },
   "name": "python3"
  }
 },
 "nbformat": 4,
 "nbformat_minor": 2
}
