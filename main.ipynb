{
 "metadata": {
  "language_info": {
   "codemirror_mode": {
    "name": "ipython",
    "version": 3
   },
   "file_extension": ".py",
   "mimetype": "text/x-python",
   "name": "python",
   "nbconvert_exporter": "python",
   "pygments_lexer": "ipython3",
   "version": "3.8.6-final"
  },
  "orig_nbformat": 2,
  "kernelspec": {
   "name": "python3",
   "display_name": "Python 3.8.6 64-bit ('reapp-spacy': pipenv)",
   "metadata": {
    "interpreter": {
     "hash": "1893e3c64ced71b15baf27b6686afc2ee07d1dd4176f93ff04c8330708c69b1c"
    }
   }
  }
 },
 "nbformat": 4,
 "nbformat_minor": 2,
 "cells": [
  {
   "cell_type": "code",
   "execution_count": null,
   "metadata": {},
   "outputs": [],
   "source": [
    "!pip install transformers datasets\n",
    "!pip install pandas\n",
    "!pip install torch\n",
    "!pip install tqdm"
   ]
  },
  {
   "source": [
    "## Setup\n",
    "1. Create virtual environment and download required packages (use pipenv). Alternatively, the following code block will run install scripts for the required packages. "
   ],
   "cell_type": "markdown",
   "metadata": {}
  },
  {
   "source": [
    "**To-Do**\n",
    "- Add [Open in Colab](https://colab.research.google.com/github/googlecolab/colabtools/blob/master/notebooks/colab-github-demo.ipynb#scrollTo=8QAWNjizy_3O) to this notebook.\n",
    "\n",
    "**Notes**\n",
    "- Attention: which words are important for the decoder to focus on at a specific timestep?\n",
    "    - Q = Query\n",
    "    - K = Key\n",
    "    - V = Value\n",
    "- Self-attention: What if Q and K are both the same sentence.\n",
    "- Multi-head Self-Attention: self-attention calculated independently and concurrently (allows transformers to learn representations at different positional encodings)\n",
    "\n",
    "**Sources**\n",
    "-  [Sentiment Analysis Text Classification Tutorial](https://www.youtube.com/watch?v=8N-nM3QW7O0)\n",
    "- [Using Catalyst for Training Organization](https://github.com/catalyst-team/catalyst)\n",
    "\n"
   ],
   "cell_type": "markdown",
   "metadata": {}
  },
  {
   "cell_type": "code",
   "execution_count": 18,
   "metadata": {},
   "outputs": [],
   "source": [
    "# Constants and imports\n",
    "from datasets import Dataset, load_dataset\n",
    "from transformers import AutoTokenizer\n",
    "import torch\n",
    "# TODO: env file\n",
    "device = torch.device(\"cuda:0\" if torch.cuda.is_available() else \"cpu\") # macOS incompatible with NVIDIA GPUs\n",
    "\n",
    "PRETRAINED_MODEL_NAME = 'distilbert-base-cased' # Casing can matter (\"bad\" vs. \"BAD\")\n",
    "RANDOM_SEED = 42\n",
    "MAX_LEN = 160\n",
    "BATCH_SIZE = 16\n",
    "EPOCHS = 3"
   ]
  },
  {
   "cell_type": "code",
   "execution_count": null,
   "metadata": {},
   "outputs": [],
   "source": []
  },
  {
   "cell_type": "code",
   "execution_count": 58,
   "metadata": {},
   "outputs": [
    {
     "output_type": "stream",
     "name": "stderr",
     "text": [
      "Reusing dataset imdb (/Users/danielpham/.cache/huggingface/datasets/imdb/plain_text/1.0.0/90099cb476936b753383ba2ae6ab2eae419b2e87f71cd5189cb9c8e5814d12a3)\n",
      "Loading cached processed dataset at /Users/danielpham/.cache/huggingface/datasets/imdb/plain_text/1.0.0/90099cb476936b753383ba2ae6ab2eae419b2e87f71cd5189cb9c8e5814d12a3/cache-f3f65001ae7f72b9.arrow\n"
     ]
    },
    {
     "output_type": "execute_result",
     "data": {
      "text/plain": [
       "Dataset({\n",
       "    features: ['attention_mask', 'input_ids', 'label', 'text'],\n",
       "    num_rows: 30\n",
       "})"
      ]
     },
     "metadata": {},
     "execution_count": 58
    }
   ],
   "source": [
    "from datasets import load_dataset\n",
    "from transformers import DistilBertTokenizerFast\n",
    "\n",
    "# Load, preprocess, and encode data\n",
    "dataset = load_dataset('imdb')\n",
    "train = dataset['train'].select(range(30))\n",
    "tokenizer = DistilBertTokenizerFast.from_pretrained(PRETRAINED_MODEL_NAME)\n",
    "\n",
    "\n",
    "encoded_train_dataset = train.map(lambda batch: tokenizer(batch['text'], add_special_tokens=True, padding=True, truncation=True), batched=True)\n",
    "encoded_train_dataset.set_format(type='torch', output_all_columns=True)\n",
    "encoded_train_dataset"
   ]
  },
  {
   "cell_type": "code",
   "execution_count": 59,
   "metadata": {},
   "outputs": [],
   "source": [
    "from transformers import DistilBertModel\n",
    "from torch import nn, optim\n",
    "\n",
    "# Generic tester sentiment classifier\n",
    "class SentimentClassifier(nn.Module):\n",
    "    def __init__(self, n_classes: int):\n",
    "        super(SentimentClassifier, self).__init__()\n",
    "        self.bert = DistilBertModel.from_pretrained(PRETRAINED_MODEL_NAME)\n",
    "        self.drop = nn.Dropout(p=0.3) \n",
    "        self.out = nn.Linear(self.bert.config.hidden_size, n_classes) # Linear feedforward networks\n",
    "        self.softmax = nn.Softmax(dim=1)\n",
    "    def forward(self, input_ids, attention_mask):\n",
    "        # last_hidden_state of the last encoder unit in the bert model.\n",
    "        # pooled output applies the activation function on the first token's hidden state\n",
    "        # Bert Pooler uses tanh activation\n",
    "        last_hidden_state, pooled_output = self.bert( \n",
    "            input_ids=input_ids, \n",
    "            attention_mask=attention_mask)\n",
    "        output = self.drop(pooled_output)\n",
    "        output = self.out(output)\n",
    "        return self.softmax(output)\n"
   ]
  },
  {
   "cell_type": "code",
   "execution_count": 66,
   "metadata": {
    "tags": []
   },
   "outputs": [],
   "source": [
    "# Training\n",
    "from transformers import AdamW, get_linear_schedule_with_warmup\n",
    "from torch.utils.data import DataLoader\n",
    "\n",
    "model = SentimentClassifier(5)\n",
    "optimizer = AdamW(model.parameters(), lr=2e-5, correct_bias=False)\n",
    "#TODO: Change num_training steps to get the length from a dataloader object?\n",
    "dataloader = DataLoader(encoded_train, batch_size=BATCH_SIZE, num_workers = 4)\n",
    "\n",
    "scheduler = get_linear_schedule_with_warmup(optimizer, num_warmup_steps=0, num_training_steps=len(encoded_train) * EPOCHS)\n",
    "\n",
    "loss_fn = nn.CrossEntropyLoss()\n",
    "\n"
   ]
  },
  {
   "cell_type": "code",
   "execution_count": 22,
   "metadata": {},
   "outputs": [
    {
     "output_type": "stream",
     "name": "stderr",
     "text": [
      "Reusing dataset amazon_reviews_multi (/Users/danielpham/.cache/huggingface/datasets/amazon_reviews_multi/en/1.0.0/f3357bd271e187385a38574fe31b8fb10055303f67fa9fce55e84d08c4870efd)\n"
     ]
    },
    {
     "output_type": "execute_result",
     "data": {
      "text/plain": [
       "DatasetDict({\n",
       "    train: Dataset({\n",
       "        features: ['review_id', 'product_id', 'reviewer_id', 'stars', 'review_body', 'review_title', 'language', 'product_category'],\n",
       "        num_rows: 200000\n",
       "    })\n",
       "    validation: Dataset({\n",
       "        features: ['review_id', 'product_id', 'reviewer_id', 'stars', 'review_body', 'review_title', 'language', 'product_category'],\n",
       "        num_rows: 5000\n",
       "    })\n",
       "    test: Dataset({\n",
       "        features: ['review_id', 'product_id', 'reviewer_id', 'stars', 'review_body', 'review_title', 'language', 'product_category'],\n",
       "        num_rows: 5000\n",
       "    })\n",
       "})"
      ]
     },
     "metadata": {},
     "execution_count": 22
    }
   ],
   "source": [
    "reviews = load_dataset('amazon_reviews_multi', 'en')\n",
    "reviews"
   ]
  },
  {
   "cell_type": "code",
   "execution_count": 70,
   "metadata": {},
   "outputs": [],
   "source": [
    "from typing import Tuple\n",
    "def run_epoch(model, dataloader, loss_fn, optimizer,device,scheduler, n_examples) -> Tuple[float, float]:\n",
    "    model = model.train()\n",
    "    losses = []\n",
    "    correct_predictions = 0\n",
    "\n",
    "    for data in dataloader:\n",
    "        input_ids = data['input_ids']\n",
    "        attention_mask = data['attention_mask']\n",
    "        labels = data['label']\n",
    "\n",
    "        outputs = model(input_ids=input_ids, attention_mask=attention_mask)\n",
    "\n",
    "        _, pred = torch.max(outputs, dim=1)\n",
    "        loss = loss_fn(outputs, labels)\n",
    "\n",
    "        correct_predictions += torch.sum(preds == targets)\n",
    "        losses.append(loss.item())\n",
    "\n",
    "        loss.backward()\n",
    "        nn.utils.clip_grad_norm_(model.parameters(), max_norm=1.0)\n",
    "        optimizer.step()\n",
    "        scheduler.step()\n",
    "        optimizer.zero_grad() # clear out gradients\n",
    "\n",
    "    return correct_predictions.double() / n_examples, np.mean(losses)\n",
    "\n",
    "def eval_model(model, dataloader, loss_fn, device, n_examples):\n",
    "    model = model.eval()\n",
    "\n",
    "    input_ids = data['input_ids']\n",
    "    attention_mask = data['attention_mask']\n",
    "    labels = data['label']\n",
    "\n",
    "    outputs = model(input_ids=input_ids, attention_mask=attention_mask)\n",
    "\n",
    "    _, pred = torch.max(outputs, dim=1)\n",
    "    loss = loss_fn(outputs, labels)\n",
    "\n",
    "    correct_predictions += torch.sum(preds == targets)\n",
    "    losses.append(loss.item())\n",
    "\n",
    "        "
   ]
  },
  {
   "cell_type": "code",
   "execution_count": null,
   "metadata": {},
   "outputs": [],
   "source": []
  }
 ]
}