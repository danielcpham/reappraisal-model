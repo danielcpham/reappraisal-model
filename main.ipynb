{
 "metadata": {
  "language_info": {
   "codemirror_mode": {
    "name": "ipython",
    "version": 3
   },
   "file_extension": ".py",
   "mimetype": "text/x-python",
   "name": "python",
   "nbconvert_exporter": "python",
   "pygments_lexer": "ipython3",
   "version": "3.8.6-final"
  },
  "orig_nbformat": 2,
  "kernelspec": {
   "name": "python3",
   "display_name": "Python 3.8.6 64-bit",
   "metadata": {
    "interpreter": {
     "hash": "aee8b7b246df8f9039afb4144a1f6fd8d2ca17a180786b69acc140d282b71a49"
    }
   }
  }
 },
 "nbformat": 4,
 "nbformat_minor": 2,
 "cells": [
  {
   "source": [
    "**To-Do**\n",
    "- Add [Open in Colab](https://colab.research.google.com/github/googlecolab/colabtools/blob/master/notebooks/colab-github-demo.ipynb#scrollTo=8QAWNjizy_3O) to this notebook.\n"
   ],
   "cell_type": "markdown",
   "metadata": {}
  },
  {
   "cell_type": "code",
   "execution_count": 3,
   "metadata": {},
   "outputs": [
    {
     "output_type": "stream",
     "name": "stdout",
     "text": [
      "Requirement already satisfied: transformers in /Users/danielpham/.local/share/virtualenvs/reapp-spacy-PP-l5x64/lib/python3.8/site-packages (4.1.1)\n",
      "Requirement already satisfied: datasets in /Users/danielpham/.local/share/virtualenvs/reapp-spacy-PP-l5x64/lib/python3.8/site-packages (1.1.3)\n",
      "Requirement already satisfied: xxhash in /Users/danielpham/.local/share/virtualenvs/reapp-spacy-PP-l5x64/lib/python3.8/site-packages (from datasets) (2.0.0)\n",
      "Requirement already satisfied: dill in /Users/danielpham/.local/share/virtualenvs/reapp-spacy-PP-l5x64/lib/python3.8/site-packages (from datasets) (0.3.3)\n",
      "Requirement already satisfied: pyarrow>=0.17.1 in /Users/danielpham/.local/share/virtualenvs/reapp-spacy-PP-l5x64/lib/python3.8/site-packages (from datasets) (2.0.0)\n",
      "Requirement already satisfied: tqdm<4.50.0,>=4.27 in /Users/danielpham/.local/share/virtualenvs/reapp-spacy-PP-l5x64/lib/python3.8/site-packages (from datasets) (4.49.0)\n",
      "Requirement already satisfied: numpy>=1.17 in /Users/danielpham/.local/share/virtualenvs/reapp-spacy-PP-l5x64/lib/python3.8/site-packages (from datasets) (1.19.4)\n",
      "Requirement already satisfied: requests>=2.19.0 in /Users/danielpham/.local/share/virtualenvs/reapp-spacy-PP-l5x64/lib/python3.8/site-packages (from datasets) (2.25.1)\n",
      "Requirement already satisfied: multiprocess in /Users/danielpham/.local/share/virtualenvs/reapp-spacy-PP-l5x64/lib/python3.8/site-packages (from datasets) (0.70.11.1)\n",
      "Requirement already satisfied: pandas in /Users/danielpham/.local/share/virtualenvs/reapp-spacy-PP-l5x64/lib/python3.8/site-packages (from datasets) (1.2.0)\n",
      "Requirement already satisfied: requests>=2.19.0 in /Users/danielpham/.local/share/virtualenvs/reapp-spacy-PP-l5x64/lib/python3.8/site-packages (from datasets) (2.25.1)\n",
      "Requirement already satisfied: filelock in /Users/danielpham/.local/share/virtualenvs/reapp-spacy-PP-l5x64/lib/python3.8/site-packages (from transformers) (3.0.12)\n",
      "Requirement already satisfied: tokenizers==0.9.4 in /Users/danielpham/.local/share/virtualenvs/reapp-spacy-PP-l5x64/lib/python3.8/site-packages (from transformers) (0.9.4)\n",
      "Requirement already satisfied: regex!=2019.12.17 in /Users/danielpham/.local/share/virtualenvs/reapp-spacy-PP-l5x64/lib/python3.8/site-packages (from transformers) (2020.11.13)\n",
      "Requirement already satisfied: numpy>=1.17 in /Users/danielpham/.local/share/virtualenvs/reapp-spacy-PP-l5x64/lib/python3.8/site-packages (from datasets) (1.19.4)\n",
      "Requirement already satisfied: packaging in /Users/danielpham/.local/share/virtualenvs/reapp-spacy-PP-l5x64/lib/python3.8/site-packages (from transformers) (20.8)\n",
      "Requirement already satisfied: sacremoses in /Users/danielpham/.local/share/virtualenvs/reapp-spacy-PP-l5x64/lib/python3.8/site-packages (from transformers) (0.0.43)\n",
      "Requirement already satisfied: tqdm<4.50.0,>=4.27 in /Users/danielpham/.local/share/virtualenvs/reapp-spacy-PP-l5x64/lib/python3.8/site-packages (from datasets) (4.49.0)\n",
      "Requirement already satisfied: dill in /Users/danielpham/.local/share/virtualenvs/reapp-spacy-PP-l5x64/lib/python3.8/site-packages (from datasets) (0.3.3)\n",
      "Requirement already satisfied: pyparsing>=2.0.2 in /Users/danielpham/.local/share/virtualenvs/reapp-spacy-PP-l5x64/lib/python3.8/site-packages (from packaging->transformers) (2.4.7)\n",
      "Requirement already satisfied: numpy>=1.17 in /Users/danielpham/.local/share/virtualenvs/reapp-spacy-PP-l5x64/lib/python3.8/site-packages (from datasets) (1.19.4)\n",
      "Requirement already satisfied: python-dateutil>=2.7.3 in /Users/danielpham/.local/share/virtualenvs/reapp-spacy-PP-l5x64/lib/python3.8/site-packages (from pandas->datasets) (2.8.1)\n",
      "Requirement already satisfied: pytz>=2017.3 in /Users/danielpham/.local/share/virtualenvs/reapp-spacy-PP-l5x64/lib/python3.8/site-packages (from pandas->datasets) (2020.5)\n",
      "Requirement already satisfied: numpy>=1.17 in /Users/danielpham/.local/share/virtualenvs/reapp-spacy-PP-l5x64/lib/python3.8/site-packages (from datasets) (1.19.4)\n",
      "Requirement already satisfied: six>=1.5 in /Users/danielpham/.local/share/virtualenvs/reapp-spacy-PP-l5x64/lib/python3.8/site-packages (from python-dateutil>=2.7.3->pandas->datasets) (1.15.0)\n",
      "Requirement already satisfied: idna<3,>=2.5 in /Users/danielpham/.local/share/virtualenvs/reapp-spacy-PP-l5x64/lib/python3.8/site-packages (from requests>=2.19.0->datasets) (2.10)\n",
      "Requirement already satisfied: urllib3<1.27,>=1.21.1 in /Users/danielpham/.local/share/virtualenvs/reapp-spacy-PP-l5x64/lib/python3.8/site-packages (from requests>=2.19.0->datasets) (1.26.2)\n",
      "Requirement already satisfied: chardet<5,>=3.0.2 in /Users/danielpham/.local/share/virtualenvs/reapp-spacy-PP-l5x64/lib/python3.8/site-packages (from requests>=2.19.0->datasets) (4.0.0)\n",
      "Requirement already satisfied: certifi>=2017.4.17 in /Users/danielpham/.local/share/virtualenvs/reapp-spacy-PP-l5x64/lib/python3.8/site-packages (from requests>=2.19.0->datasets) (2020.12.5)\n",
      "Requirement already satisfied: joblib in /Users/danielpham/.local/share/virtualenvs/reapp-spacy-PP-l5x64/lib/python3.8/site-packages (from sacremoses->transformers) (1.0.0)\n",
      "Requirement already satisfied: regex!=2019.12.17 in /Users/danielpham/.local/share/virtualenvs/reapp-spacy-PP-l5x64/lib/python3.8/site-packages (from transformers) (2020.11.13)\n",
      "Requirement already satisfied: six>=1.5 in /Users/danielpham/.local/share/virtualenvs/reapp-spacy-PP-l5x64/lib/python3.8/site-packages (from python-dateutil>=2.7.3->pandas->datasets) (1.15.0)\n",
      "Requirement already satisfied: click in /Users/danielpham/.local/share/virtualenvs/reapp-spacy-PP-l5x64/lib/python3.8/site-packages (from sacremoses->transformers) (7.1.2)\n",
      "Requirement already satisfied: tqdm<4.50.0,>=4.27 in /Users/danielpham/.local/share/virtualenvs/reapp-spacy-PP-l5x64/lib/python3.8/site-packages (from datasets) (4.49.0)\n",
      "\u001b[33mWARNING: You are using pip version 20.3.1; however, version 20.3.3 is available.\n",
      "You should consider upgrading via the '/Users/danielpham/.local/share/virtualenvs/reapp-spacy-PP-l5x64/bin/python -m pip install --upgrade pip' command.\u001b[0m\n",
      "Requirement already satisfied: numpy in /Users/danielpham/.local/share/virtualenvs/reapp-spacy-PP-l5x64/lib/python3.8/site-packages (1.19.4)\n",
      "Requirement already satisfied: pandas in /Users/danielpham/.local/share/virtualenvs/reapp-spacy-PP-l5x64/lib/python3.8/site-packages (1.2.0)\n",
      "Requirement already satisfied: python-dateutil>=2.7.3 in /Users/danielpham/.local/share/virtualenvs/reapp-spacy-PP-l5x64/lib/python3.8/site-packages (from pandas) (2.8.1)\n",
      "Requirement already satisfied: numpy in /Users/danielpham/.local/share/virtualenvs/reapp-spacy-PP-l5x64/lib/python3.8/site-packages (1.19.4)\n",
      "Requirement already satisfied: pytz>=2017.3 in /Users/danielpham/.local/share/virtualenvs/reapp-spacy-PP-l5x64/lib/python3.8/site-packages (from pandas) (2020.5)\n",
      "Requirement already satisfied: six>=1.5 in /Users/danielpham/.local/share/virtualenvs/reapp-spacy-PP-l5x64/lib/python3.8/site-packages (from python-dateutil>=2.7.3->pandas) (1.15.0)\n",
      "\u001b[33mWARNING: You are using pip version 20.3.1; however, version 20.3.3 is available.\n",
      "You should consider upgrading via the '/Users/danielpham/.local/share/virtualenvs/reapp-spacy-PP-l5x64/bin/python -m pip install --upgrade pip' command.\u001b[0m\n",
      "Collecting torch\n",
      "  Downloading torch-1.7.1-cp38-none-macosx_10_9_x86_64.whl (108.9 MB)\n",
      "\u001b[K     |████████████████████████████████| 108.9 MB 404 kB/s \n",
      "\u001b[?25hRequirement already satisfied: numpy in /Users/danielpham/.local/share/virtualenvs/reapp-spacy-PP-l5x64/lib/python3.8/site-packages (from torch) (1.19.4)\n",
      "Collecting typing-extensions\n",
      "  Downloading typing_extensions-3.7.4.3-py3-none-any.whl (22 kB)\n",
      "Installing collected packages: typing-extensions, torch\n",
      "Successfully installed torch-1.7.1 typing-extensions-3.7.4.3\n",
      "\u001b[33mWARNING: You are using pip version 20.3.1; however, version 20.3.3 is available.\n",
      "You should consider upgrading via the '/Users/danielpham/.local/share/virtualenvs/reapp-spacy-PP-l5x64/bin/python -m pip install --upgrade pip' command.\u001b[0m\n"
     ]
    }
   ],
   "source": [
    "!pip install transformers datasets\n",
    "!pip install numpy pandas\n",
    "!pip install torch\n",
    "\n",
    "from datasets import Dataset, load_dataset\n",
    "from transformers import AutoTokenizerd"
   ]
  },
  {
   "cell_type": "code",
   "execution_count": 6,
   "metadata": {},
   "outputs": [],
   "source": [
    "tokenizer = AutoTokenizer.from_pretrained('distilbert-base-uncased', use_fast=True)\n",
    "reviews = load_dataset('amazon_reviews_multi', 'en')"
   ]
  },
  {
   "cell_type": "code",
   "execution_count": 5,
   "metadata": {},
   "outputs": [
    {
     "output_type": "stream",
     "name": "stderr",
     "text": [
      "Reusing dataset amazon_reviews_multi (/Users/danielpham/.cache/huggingface/datasets/amazon_reviews_multi/en/1.0.0/f3357bd271e187385a38574fe31b8fb10055303f67fa9fce55e84d08c4870efd)\n"
     ]
    }
   ],
   "source": []
  },
  {
   "cell_type": "code",
   "execution_count": null,
   "metadata": {},
   "outputs": [],
   "source": []
  }
 ]
}