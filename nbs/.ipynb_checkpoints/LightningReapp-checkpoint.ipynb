{
 "cells": [
  {
   "cell_type": "code",
   "execution_count": null,
   "metadata": {},
   "outputs": [],
   "source": [
    "# default_exp lightningreapp\n"
   ]
  },
  {
   "cell_type": "code",
   "execution_count": null,
   "metadata": {},
   "outputs": [],
   "source": [
    "#export\n",
    "import pandas as pd\n",
    "import pytorch_lightning as lit\n",
    "import torch\n",
    "from torch import nn, optim\n",
    "from torch.nn import functional as F\n",
    "from transformers import AutoModel\n",
    "\n",
    "class LightningReapp(lit.LightningModule):\n",
    "    def __init__(self, config, pretrained_model=None):\n",
    "        super().__init__()\n",
    "\n",
    "        self.lr = config['lr']\n",
    "        self.hidden_layer_size = config['hidden_layer_size']\n",
    "        self.save_hyperparameters()\n",
    "\n",
    "        pretrained_model = \"distilbert-base-uncased-finetuned-sst-2-english\" if pretrained_model is None else pretrained_model\n",
    "\n",
    "        self.model = AutoModel.from_pretrained(pretrained_model)\n",
    "\n",
    "        self.avg = nn.AvgPool1d(150)\n",
    "\n",
    "        self.classifier = nn.Sequential(\n",
    "            nn.Linear(768, 768),\n",
    "            nn.Linear(768, self.hidden_layer_size),\n",
    "            nn.ReLU(),\n",
    "            nn.Linear(self.hidden_layer_size, 10),\n",
    "            nn.ReLU(),\n",
    "        )\n",
    "\n",
    "        # define metrics\n",
    "        self.train_loss = lit.metrics.MeanSquaredError()\n",
    "        self.val_loss = lit.metrics.MeanSquaredError()\n",
    "\n",
    "    def forward(self, input_ids, attention_mask):\n",
    "        output = self.model(input_ids, attention_mask)\n",
    "        last_hidden_state = output.last_hidden_state\n",
    "        avg = self.avg(last_hidden_state.transpose(2, 1))\n",
    "        out = self.classifier(avg.transpose(2, 1)).squeeze()\n",
    "        return out\n",
    "\n",
    "    def configure_optimizers(self):\n",
    "        optimizer = optim.Adam(self.parameters(), lr=self.lr)\n",
    "        return optimizer\n",
    "\n",
    "    def training_step(self, batch, batch_idx):\n",
    "        # destructure batch\n",
    "        input_ids = batch[\"input_ids\"]\n",
    "        attention_mask = batch[\"attention_mask\"]\n",
    "        score = batch[\"score\"]\n",
    "        # Compute the loss\n",
    "        output = self(input_ids, attention_mask)\n",
    "        loss = self.train_loss(output.sum(dim=1), score)\n",
    "        self.log(\"train_loss\", loss)\n",
    "        return {\"loss\": loss}\n",
    "    \n",
    "    def training_epoch_end(self, outputs):\n",
    "        avg_loss = torch.stack([x['loss'] for x in outputs]).mean()\n",
    "        self.log(\"train_loss\", avg_loss)\n",
    "            \n",
    "    # VALIDATION LOOP\n",
    "    def validation_step(self, batch, batch_idx):\n",
    "        input_ids = batch[\"input_ids\"]\n",
    "        attention_mask = batch[\"attention_mask\"]\n",
    "        score = batch[\"score\"]\n",
    "        output = self(input_ids, attention_mask)\n",
    "        loss = self.val_loss(output.sum(dim=1), score)\n",
    "        self.log(\"val_loss\", loss)\n",
    "        return {\"loss\": loss}\n",
    "    \n",
    "    def validation_epoch_end(self, outputs):\n",
    "        avg_loss = torch.stack([x['loss'] for x in outputs]).mean()\n",
    "        self.log(\"val_loss\", avg_loss)\n",
    "\n",
    "    # TESTING LOOP\n",
    "    def test_step(self, batch, batch_idx):\n",
    "        input_ids = batch[\"input_ids\"]\n",
    "        attention_mask = batch[\"attention_mask\"]\n",
    "        output = self(input_ids, attention_mask)\n",
    "        # Eval step\n",
    "        return {\n",
    "            \"predict\": pd.DataFrame(\n",
    "                {\n",
    "                    \"addcode\": batch['addcode'], \n",
    "                    \"daycode\": batch['daycode'], \n",
    "                    \"condition\": batch['Condition'],\n",
    "                    \"response\": batch[\"response\"], \n",
    "                    \"output\": output.sum(dim=1)\n",
    "                    }\n",
    "            )\n",
    "        }"
   ]
  },
  {
   "cell_type": "code",
   "execution_count": null,
   "metadata": {},
   "outputs": [
    {
     "name": "stdout",
     "output_type": "stream",
     "text": [
      "Converted LightningReapp.ipynb.\n"
     ]
    }
   ],
   "source": [
    "#hide\n",
    "from nbdev.export import notebook2script; \n",
    "notebook2script('LightningReapp.ipynb');"
   ]
  },
  {
   "cell_type": "code",
   "execution_count": null,
   "metadata": {},
   "outputs": [],
   "source": []
  }
 ],
 "metadata": {
  "kernelspec": {
   "display_name": "Python 3",
   "language": "python",
   "name": "python3"
  }
 },
 "nbformat": 4,
 "nbformat_minor": 4
}
