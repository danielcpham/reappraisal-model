{
 "cells": [
  {
   "cell_type": "code",
   "execution_count": null,
   "metadata": {},
   "outputs": [],
   "source": [
    "#default_exp trainers\n",
    "\n",
    "#export\n",
    "import pytorch_lightning as lit\n",
    "class KFoldTrainer(lit.Trainer):\n",
    "    def __init__(self, num_folds, **kwargs):\n",
    "        # TODO: have different args for dev/full and gpu/cpu\n",
    "        super().__init__(\n",
    "            **kwargs)\n",
    "        self.num_folds = num_folds\n",
    "        self.trainers = []\n",
    "        for i in range(self.num_folds):\n",
    "            # Create a trainer for each fold\n",
    "            print(f\"Creating Trainer {i}\")\n",
    "            self.trainers.append(lit.Trainer(\n",
    "                fast_dev_run=1\n",
    "            ))\n",
    "        self.kfold_results = []\n",
    "        \n",
    "    def fit(self, model, data):\n",
    "        for i in range(self.num_folds):\n",
    "            train_dl = data.get_train_dataloader(i)\n",
    "            val_dl = data.get_val_dataloader(i)\n",
    "            self.trainers[i].fit(model, train_dl, val_dl)\n",
    "        print(self.logged_metrics)\n",
    "                 \n",
    "    \n",
    "\n"
   ]
  },
  {
   "cell_type": "code",
   "execution_count": null,
   "metadata": {},
   "outputs": [
    {
     "name": "stdout",
     "output_type": "stream",
     "text": [
      "Converted Trainers.ipynb.\n"
     ]
    }
   ],
   "source": [
    "#hide\n",
    "from nbdev.export import notebook2script; \n",
    "notebook2script(\"Trainers.ipynb\");\n"
   ]
  },
  {
   "cell_type": "code",
   "execution_count": null,
   "metadata": {},
   "outputs": [],
   "source": []
  }
 ],
 "metadata": {
  "kernelspec": {
   "display_name": "Python 3",
   "language": "python",
   "name": "python3"
  }
 },
 "nbformat": 4,
 "nbformat_minor": 4
}
