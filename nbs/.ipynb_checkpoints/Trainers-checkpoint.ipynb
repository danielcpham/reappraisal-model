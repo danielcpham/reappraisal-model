{
 "cells": [
  {
   "cell_type": "markdown",
   "metadata": {},
   "source": [
    "# Functions for running training loops"
   ]
  },
  {
   "cell_type": "markdown",
   "metadata": {},
   "source": [
    "## K-Fold Training and Cross-Validation"
   ]
  },
  {
   "cell_type": "code",
   "execution_count": null,
   "metadata": {},
   "outputs": [],
   "source": [
    "#default_exp trainers\n",
    "#export\n",
    "import os\n",
    "\n",
    "import torch\n",
    "import pandas as pd\n",
    "import pytorch_lightning as lit\n",
    "import wandb\n",
    "from pytorch_lightning.callbacks import EarlyStopping, ModelCheckpoint\n",
    "\n",
    "from reappraisalmodel.lightningreapp import LightningReapp\n",
    "\n",
    "# Default configuration for hyperparameters\n",
    "default_config = {\n",
    "    'lr': 1e-3,\n",
    "    'hidden_layer_size': 50\n",
    "    }\n",
    "\n",
    "\n",
    "\n",
    "def kfold_train(k: int, ldhdata, strat, **trainer_kwargs) -> None:\n",
    "    \"\"\"Fits a LightningReapp instance with k-fold cross-validation.\n",
    "    Args:\n",
    "        k (int):\n",
    "        ldhdata : See `reappraisalmodel.ldhdata.LDHDataModule`\n",
    "    \"\"\"\n",
    "    all_metrics = []\n",
    "\n",
    "    early_stop_checkpoint = EarlyStopping(\n",
    "      monitor='val_loss',\n",
    "      mode='min',\n",
    "      min_delta=0.001,\n",
    "      patience=5,\n",
    "      verbose=False\n",
    "    )\n",
    "\n",
    "    max_epochs = trainer_kwargs.pop('max_epochs', 20)\n",
    "    gpus = trainer_kwargs.pop('gpus', 1 if torch.cuda.is_available() else None)\n",
    "    \n",
    "    today = datetime.today().strftime('%Y%m%d')\n",
    "    \n",
    "    for i in range(k):\n",
    "        # Select the dataloaders for the given split.\n",
    "        split = i\n",
    "        train_dl = ldhdata.get_train_dataloader(split)\n",
    "        val_dl = ldhdata.get_val_dataloader(split)\n",
    "\n",
    "        callback_checkpoint = ModelCheckpoint(\n",
    "            monitor='val_loss', \n",
    "            mode='min', \n",
    "            dirpath='output',\n",
    "            filename=f'{str(today)}-{strat}' + '-{epoch:.2d}-{val_loss:.02f}',\n",
    "            verbose=False,\n",
    "            save_last=False, \n",
    "            save_top_k=1, \n",
    "            save_weights_only=False,\n",
    "            period=1, # once every epoch\n",
    "        )\n",
    "\n",
    "        model = LightningReapp(default_config)\n",
    "        trainer = lit.Trainer(\n",
    "            gpus = gpus,\n",
    "            gradient_clip_val=1.0,\n",
    "            progress_bar_refresh_rate=30,\n",
    "            max_epochs=max_epochs,\n",
    "            terminate_on_nan=True,\n",
    "            num_sanity_val_steps= 2 if split == 0 else 0\n",
    "            callbacks=[callback_checkpoint, early_stop_checkpoint],\n",
    "            **trainer_kwargs)\n",
    "        print(f\"Training on split {i + 1}\")\n",
    "        trainer.fit(model, train_dl, val_dl)\n",
    "        all_metrics.append({\n",
    "            'metrics': trainer.logged_metrics,\n",
    "            'checkpoint': trainer.best_model_path\n",
    "        })\n",
    "    return pd.DataFrame(all_metrics)"
   ]
  },
  {
   "cell_type": "markdown",
   "metadata": {},
   "source": [
    "## Hyperparameter Tuning\n",
    "\n",
    "Sources:\n",
    "- [Scaling Up PyTorch Lightning Hyperparameter Tuning w/ Ray](https://medium.com/distributed-computing-with-ray/scaling-up-pytorch-lightning-hyperparameter-tuning-with-ray-tune-4bd9e1ff9929\n",
    ")"
   ]
  },
  {
   "cell_type": "code",
   "execution_count": null,
   "metadata": {},
   "outputs": [],
   "source": [
    "# export\n",
    "from functools import partial\n",
    "from argparse import ArgumentParser\n",
    "\n",
    "import torch\n",
    "import pytorch_lightning as lit\n",
    "from ray.tune.integration.pytorch_lightning import TuneReportCallback\n",
    "from ray import tune\n",
    "\n",
    "from reappraisalmodel.lightningreapp import LightningReapp\n",
    "\n",
    "parser = ArgumentParser()\n",
    "\n",
    "\n",
    "callback_tuner = TuneReportCallback(\n",
    "    {\n",
    "        \"loss\": \"val_loss\",\n",
    "        # \"mean_accuracy\": \"val_accuracy\"\n",
    "    },\n",
    "    on=\"validation_end\",\n",
    ")\n",
    "\n",
    "default_tune_config = {\n",
    "    \"lr\": tune.loguniform(1e-4, 1e-1), # loguniform samples by magnitude\n",
    "    \"hidden_layer_size\": tune.quniform(10, 50, 1)\n",
    "}\n",
    "\n",
    "### TUNING HYPERPARAMETERS\n",
    "def train_tune(config, **tuner_kwargs):\n",
    "    model = LightningReapp(config)\n",
    "\n",
    "    max_epochs = tuner_kwargs.get('max_epochs', 10)\n",
    "    trainer = lit.Trainer(\n",
    "        num_folds=3,\n",
    "        fast_dev_run=1,\n",
    "        max_epochs=max_epochs,\n",
    "        gpus= 1 if torch.cuda.is_available() else None,\n",
    "        progress_bar_refresh_rate=30,\n",
    "        callbacks=[callback_tuner],\n",
    "    )\n",
    "    trainer.fit(model, ldhdata)\n",
    "\n",
    "\n",
    "# tune.run(train_tune, config=default_tune_config, num_samples=2)"
   ]
  },
  {
   "cell_type": "code",
   "execution_count": null,
   "metadata": {},
   "outputs": [
    {
     "data": {
      "text/plain": [
       "'20210227'"
      ]
     },
     "execution_count": null,
     "metadata": {},
     "output_type": "execute_result"
    }
   ],
   "source": [
    "from datetime import datetime\n",
    "\n",
    "datetime.today().strftime('%Y%m%d')"
   ]
  },
  {
   "cell_type": "code",
   "execution_count": null,
   "metadata": {},
   "outputs": [
    {
     "name": "stdout",
     "output_type": "stream",
     "text": [
      "/bin/sh: nbdev_build_lib: command not found\n"
     ]
    }
   ],
   "source": []
  },
  {
   "cell_type": "code",
   "execution_count": null,
   "metadata": {},
   "outputs": [],
   "source": []
  }
 ],
 "metadata": {
  "kernelspec": {
   "display_name": "conda_amazonei_mxnet_p36",
   "language": "python",
   "name": "conda_amazonei_mxnet_p36"
  }
 },
 "nbformat": 4,
 "nbformat_minor": 4
}
