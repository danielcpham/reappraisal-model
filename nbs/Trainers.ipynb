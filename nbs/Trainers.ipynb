{
 "cells": [
  {
   "cell_type": "code",
   "execution_count": null,
   "metadata": {},
   "outputs": [],
   "source": [
    "#default_exp trainers\n",
    "#export \n",
    "import pytorch_lightning as lit\n",
    "\n",
    "\n",
    "def cross_validate(ldhdata, k=3):\n",
    "    for i in range(num_folds):\n",
    "        ldhdata.current_split = i\n",
    "        train_dl = ldhdata.train_dataloader()\n",
    "        val_dl = ldhdata.val_dataloader()\n",
    "        trainer = lit.Trainer()\n",
    "        \n",
    "    \n",
    "                 \n",
    "    \n",
    "\n"
   ]
  },
  {
   "cell_type": "code",
   "execution_count": null,
   "metadata": {},
   "outputs": [
    {
     "name": "stdout",
     "output_type": "stream",
     "text": [
      "Converted Trainers.ipynb.\n"
     ]
    }
   ],
   "source": [
    "#hide\n",
    "from nbdev.export import notebook2script; \n",
    "notebook2script(\"Trainers.ipynb\");\n"
   ]
  },
  {
   "cell_type": "code",
   "execution_count": null,
   "metadata": {},
   "outputs": [],
   "source": []
  }
 ],
 "metadata": {
  "kernelspec": {
   "display_name": "Python 3",
   "language": "python",
   "name": "python3"
  }
 },
 "nbformat": 4,
 "nbformat_minor": 4
}
