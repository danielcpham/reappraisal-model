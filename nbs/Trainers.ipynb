{
 "cells": [
  {
   "cell_type": "markdown",
   "metadata": {},
   "source": [
    "# Functions for running training loops"
   ]
  },
  {
   "cell_type": "markdown",
   "metadata": {},
   "source": [
    "## K-Fold Training and Cross-Validation"
   ]
  },
  {
   "cell_type": "code",
   "execution_count": null,
   "metadata": {},
   "outputs": [],
   "source": [
    "#default_exp trainers\n",
    "#export \n",
    "import os\n",
    "\n",
    "import torch\n",
    "import pandas as pd\n",
    "import pytorch_lightning as lit\n",
    "import wandb\n",
    "from pytorch_lightning.callbacks import EarlyStopping, ModelCheckpoint\n",
    "\n",
    "from reappraisalmodel.lightningreapp import LightningReapp\n",
    "\n",
    "# Default configuration for hyperparameters\n",
    "default_config = {\n",
    "    'lr': 1e-3,\n",
    "    'hidden_layer_size': 50\n",
    "    }\n",
    "\n",
    "def kfold_train(k: int, ldhdata, strat='far', **trainer_kwargs) -> None:\n",
    "    \"\"\"Fits a LightningReapp instance with k-fold cross-validation.\n",
    "    Args:\n",
    "        k (int): \n",
    "        ldhdata : See `reappraisalmodel.ldhdata.LDHDataModule`\n",
    "    \"\"\"\n",
    "    all_metrics = []\n",
    "    \n",
    "    max_epochs = trainer_kwargs.get('max_epochs', 20)\n",
    "\n",
    "    for i in range(k):\n",
    "        # Select the dataloaders for the given split.\n",
    "        split = i\n",
    "        train_dl = ldhdata.get_train_dataloader(split)\n",
    "        val_dl = ldhdata.get_val_dataloader(split)\n",
    "        \n",
    "        callback_checkpoint = ModelCheckpoint(\n",
    "            monitor='val_loss', verbose=False, \n",
    "            filename=f'best_model_{split}',\n",
    "            save_last=False, save_top_k=1, save_weights_only=False, \n",
    "            mode='min', period=1, prefix=strat)\n",
    "\n",
    "        model = LightningReapp(default_config)\n",
    "        trainer = lit.Trainer(\n",
    "            gpus = 1 if torch.cuda.is_available() else None,\n",
    "            gradient_clip_val=1.0,\n",
    "            progress_bar_refresh_rate=30,\n",
    "            max_epochs=max_epochs,\n",
    "            terminate_on_nan=True,\n",
    "            early_stop_callback=True,\n",
    "            callbacks=[callback_checkpoint],\n",
    "            **trainer_kwargs)\n",
    "        print(f\"Training on split {i + 1}\")\n",
    "        trainer.fit(model, train_dl, val_dl)\n",
    "        all_metrics.append(trainer.logged_metrics)\n",
    "    return pd.DataFrame(all_metrics)"
   ]
  },
  {
   "cell_type": "markdown",
   "metadata": {},
   "source": [
    "## Hyperparameter Tuning\n",
    "\n",
    "Sources:\n",
    "- [Scaling Up PyTorch Lightning Hyperparameter Tuning w/ Ray](https://medium.com/distributed-computing-with-ray/scaling-up-pytorch-lightning-hyperparameter-tuning-with-ray-tune-4bd9e1ff9929\n",
    ")"
   ]
  },
  {
   "cell_type": "code",
   "execution_count": null,
   "metadata": {},
   "outputs": [],
   "source": [
    "# export\n",
    "from functools import partial\n",
    "from argparse import ArgumentParser\n",
    "\n",
    "import torch\n",
    "import pytorch_lightning as lit\n",
    "from ray.tune.integration.pytorch_lightning import TuneReportCallback\n",
    "from ray import tune\n",
    "\n",
    "from reappraisalmodel.lightningreapp import LightningReapp\n",
    "\n",
    "parser = ArgumentParser()\n",
    "\n",
    "\n",
    "callback_tuner = TuneReportCallback(\n",
    "    {\n",
    "        \"loss\": \"val_loss\",\n",
    "        # \"mean_accuracy\": \"val_accuracy\"\n",
    "    },\n",
    "    on=\"validation_end\",\n",
    ")\n",
    "\n",
    "default_tune_config = {\n",
    "    \"lr\": tune.loguniform(1e-4, 1e-1), # loguniform samples by magnitude\n",
    "    \"hidden_layer_size\": tune.quniform(10, 50)\n",
    "}\n",
    "\n",
    "### TUNING HYPERPARAMETERS\n",
    "def train_tune(config, ldhdata, **tuner_kwargs):\n",
    "    model = LightningReapp(config)\n",
    "\n",
    "    max_epochs = tuner_kwargs.get('max_epochs', 10)\n",
    "    trainer = lit.Trainer(\n",
    "        num_folds=3,\n",
    "        fast_dev_run=1,\n",
    "        max_epochs=max_epochs,\n",
    "        gpus= 1 if torch.cuda.is_available() else None,\n",
    "        progress_bar_refresh_rate=30,\n",
    "        callbacks=[callback_tuner],\n",
    "    )\n",
    "    trainer.fit(model, ldhdata)\n",
    "\n",
    "\n",
    "tune.run(train_tune, config=default_tune_config, num_samples=2)\n",
    "\n"
   ]
  },
  {
   "cell_type": "code",
   "execution_count": null,
   "metadata": {},
   "outputs": [],
   "source": []
  },
  {
   "cell_type": "code",
   "execution_count": null,
   "metadata": {},
   "outputs": [],
   "source": []
  }
 ],
 "metadata": {
  "kernelspec": {
   "display_name": "conda_amazonei_mxnet_p36",
   "language": "python",
   "name": "conda_amazonei_mxnet_p36"
  },
  "language_info": {
   "codemirror_mode": {
    "name": "ipython",
    "version": 3
   },
   "file_extension": ".py",
   "mimetype": "text/x-python",
   "name": "python",
   "nbconvert_exporter": "python",
   "pygments_lexer": "ipython3",
   "version": "3.6.10"
  },
  "nbdime-conflicts": {
   "local_diff": [
    {
     "key": "language_info",
     "op": "add",
     "value": {
      "codemirror_mode": {
       "name": "ipython",
       "version": 3
      },
      "file_extension": ".py",
      "mimetype": "text/x-python",
      "name": "python",
      "nbconvert_exporter": "python",
      "pygments_lexer": "ipython3",
      "version": "3.8.7"
     }
    }
   ],
   "remote_diff": [
    {
     "key": "language_info",
     "op": "add",
     "value": {
      "codemirror_mode": {
       "name": "ipython",
       "version": 3
      },
      "file_extension": ".py",
      "mimetype": "text/x-python",
      "name": "python",
      "nbconvert_exporter": "python",
      "pygments_lexer": "ipython3",
      "version": "3.6.10"
     }
    }
   ]
  }
 },
 "nbformat": 4,
 "nbformat_minor": 4
}
