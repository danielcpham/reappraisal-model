{
 "cells": [
  {
   "cell_type": "markdown",
   "metadata": {},
   "source": [
    "# Functions for running training loops"
   ]
  },
  {
   "cell_type": "markdown",
   "metadata": {},
   "source": [
    "## K-Fold Training and Cross-Validation"
   ]
  },
  {
   "cell_type": "code",
   "execution_count": 1,
   "metadata": {},
   "outputs": [],
   "source": [
    "%load_ext autoreload\n",
    "#default_exp trainers\n",
    "#export\n",
    "import datetime\n",
    "import logging\n",
    "import os\n",
    "import tempfile\n",
    "from os.path import dirname\n",
    "\n",
    "import torch\n",
    "import pandas as pd\n",
    "import pytorch_lightning as lit\n",
    "import wandb\n",
    "from pytorch_lightning.callbacks import EarlyStopping, ModelCheckpoint\n",
    "from pytorch_lightning.loggers import TensorBoardLogger, CSVLogger, WandbLogger\n",
    "\n",
    "from reappraisalmodel.lightningreapp import LightningReapp\n",
    "from reappraisalmodel.utils import upload_file"
   ]
  },
  {
   "cell_type": "code",
   "execution_count": 2,
   "metadata": {
    "jupyter": {
     "source_hidden": true
    }
   },
   "outputs": [],
   "source": [
    "#exporti\n",
    "default_config = {\n",
    "    'lr': 1e-3,\n",
    "    'hidden_layer_size': 50\n",
    "    }\n",
    "\n",
    "#export\n",
    "def kfold_train(k: int, ldhdata, strat, s3_bucket=None, **trainer_kwargs) -> None:\n",
    "    \"\"\"Fits a LightningReapp instance with k-fold cross-validation.\n",
    "    Args:\n",
    "        k (int):\n",
    "        ldhdata : See `reappraisalmodel.ldhdata.LDHDataModule`\n",
    "    \"\"\"\n",
    "    all_metrics = []\n",
    "\n",
    "    max_epochs = trainer_kwargs.pop('max_epochs', 20)\n",
    "    gpus = trainer_kwargs.pop('gpus', 1 if torch.cuda.is_available() else None)\n",
    "\n",
    "    today = datetime.datetime.today().strftime('%Y%m%d_%H%M%S')\n",
    "\n",
    "    #Create temporary data to store checkpoint files.\n",
    "    with tempfile.TemporaryDirectory() as tempdir:\n",
    "        print(f'Created temporary directory: {tempdir}')\n",
    "\n",
    "        for i in range(k):\n",
    "            # Select the dataloaders for the given split.\n",
    "            split = i\n",
    "            train_dl = ldhdata.get_train_dataloader(split)\n",
    "            val_dl = ldhdata.get_val_dataloader(split)\n",
    "\n",
    "            save_dir='reapp_logs'\n",
    "            name=f\"{i:02d}foldCV_{strat}_{today}\"\n",
    "            version=\"split\"\n",
    "            prefix=i\n",
    "\n",
    "            # Loggers\n",
    "            logger = TensorBoardLogger(\n",
    "                save_dir=save_dir,\n",
    "                name=name,\n",
    "                version=version,\n",
    "                prefix=prefix\n",
    "            )\n",
    "\n",
    "            csv_logger = CSVLogger(\n",
    "                save_dir=save_dir,\n",
    "                name=name,\n",
    "                version=version,\n",
    "                prefix=prefix\n",
    "            )\n",
    "\n",
    "            #Checkpoints\n",
    "            early_stop_checkpoint = EarlyStopping(\n",
    "                monitor='val_loss',\n",
    "                mode='min',\n",
    "                min_delta=0.001,\n",
    "                patience=3,\n",
    "                verbose=False\n",
    "            )\n",
    "\n",
    "            callback_checkpoint = ModelCheckpoint(\n",
    "                monitor='val_loss',\n",
    "                mode='min',\n",
    "                dirpath=os.path.join(tempdir, name),\n",
    "                filename= f'{split}_'+'{epoch:02d}-{val_loss:.02f}',\n",
    "                verbose=False,\n",
    "                save_last=False,\n",
    "                save_top_k=1,\n",
    "                save_weights_only=False,\n",
    "            )\n",
    "\n",
    "            model = LightningReapp(default_config)\n",
    "            trainer = lit.Trainer(\n",
    "                benchmark=True,\n",
    "                logger = [logger, csv_logger],\n",
    "                gpus = gpus,\n",
    "                gradient_clip_val=1.0,\n",
    "                max_epochs=max_epochs,\n",
    "                terminate_on_nan=True,\n",
    "                weights_summary=None,\n",
    "                callbacks=[callback_checkpoint, early_stop_checkpoint],\n",
    "                **trainer_kwargs)\n",
    "            print(f\"Training on split {i}\")\n",
    "            trainer.fit(model, train_dl, val_dl)\n",
    "            all_metrics.append({\n",
    "                'metrics': trainer.logged_metrics,\n",
    "                'checkpoint': callback_checkpoint.best_model_path,\n",
    "                'num_epochs': trainer.current_epoch\n",
    "            })\n",
    "\n",
    "        outputs = []\n",
    "        for split in all_metrics:\n",
    "            val_loss = split['metrics']['val_loss'].item()\n",
    "            train_loss = split['metrics']['train_loss'].item()\n",
    "            num_epochs = split['num_epochs']\n",
    "            r2score = split['metrics']['r2score']\n",
    "            explained_variance = split['metrics']['explained_var']\n",
    "\n",
    "            ckpt_path = split['checkpoint']\n",
    "            filename = os.path.split(ckpt_path)[-1]\n",
    "\n",
    "            upload_result = upload_file(ckpt_path, 'ldhdata', f'{strat}/{i}-{str(today)}-{filename}')\n",
    "            print(f\"Successful {filename} to s3: {upload_result}\")\n",
    "\n",
    "            row = {\n",
    "                'val_loss': val_loss,\n",
    "                'train_loss': train_loss,\n",
    "                'num_epochs': num_epochs,\n",
    "                'r2score': r2score,\n",
    "                'explained_var': explained_variance\n",
    "            }\n",
    "            print(row)\n",
    "            outputs.append(row)\n",
    "        df = pd.DataFrame(outputs)\n",
    "        df['r2score'] = df['r2score'].apply(lambda x: x.item())\n",
    "        df['explained_var'] = df['explained_var'].apply(lambda x: x.item())\n",
    "        \n",
    "        report_name = f'{str(today)}-report.csv'\n",
    "        report_path = os.path.join(tempdir, f\"{strat}-{report_name}\" )\n",
    "        df.to_csv(report_path)\n",
    "        if s3_bucket is not None:\n",
    "            upload_report = upload_file(report_path, s3_bucket, f'{strat}/{report_name}')\n",
    "            print(f\"Successful Uploading Report to s3: {upload_report}\")\n",
    "        print(df.describe())\n",
    "        return df"
   ]
  },
  {
   "cell_type": "markdown",
   "metadata": {},
   "source": [
    "## Hyperparameter Tuning\n",
    "\n",
    "Sources:\n",
    "- [Scaling Up PyTorch Lightning Hyperparameter Tuning w/ Ray](https://medium.com/distributed-computing-with-ray/scaling-up-pytorch-lightning-hyperparameter-tuning-with-ray-tune-4bd9e1ff9929\n",
    ")"
   ]
  },
  {
   "cell_type": "code",
   "execution_count": 3,
   "metadata": {},
   "outputs": [
    {
     "name": "stdout",
     "output_type": "stream",
     "text": [
      "/home/ubuntu/reapp\n"
     ]
    },
    {
     "name": "stderr",
     "output_type": "stream",
     "text": [
      "Loading cached processed dataset at /home/ubuntu/reapp/output/training/obj/cache-8217e0ac99d256e6.arrow\n"
     ]
    },
    {
     "name": "stdout",
     "output_type": "stream",
     "text": [
      "Training data loaded from disk.\n",
      "Encoding Training Data:\n"
     ]
    }
   ],
   "source": [
    "from reappraisalmodel.ldhdata import LDHDataModule\n",
    "from pathlib import Path\n",
    "\n",
    "\n",
    "ROOT_DIR = Path().resolve().parent\n",
    "print(ROOT_DIR)\n",
    "STRAT='obj'\n",
    "ldhdata = LDHDataModule(data_dir=ROOT_DIR, strat=STRAT)\n",
    "ldhdata.load_train_data()"
   ]
  },
  {
   "cell_type": "code",
   "execution_count": 4,
   "metadata": {},
   "outputs": [
    {
     "name": "stdout",
     "output_type": "stream",
     "text": [
      "Downloaded file: Master_Final_TrainingData.csv (ldhdata)\n"
     ]
    }
   ],
   "source": [
    "%autoreload\n",
    "from reappraisalmodel.utils import download_file\n",
    "\n",
    "\n",
    "download_file('ldhdata', 'Master_Final_TrainingData.csv',f\"{ROOT_DIR}/data/training/Master_Final_TrainingData.csv\")"
   ]
  },
  {
   "cell_type": "code",
   "execution_count": 5,
   "metadata": {},
   "outputs": [
    {
     "name": "stdout",
     "output_type": "stream",
     "text": [
      "Usage: ray [OPTIONS] COMMAND [ARGS]...\n",
      "\n",
      "Options:\n",
      "  --logging-level TEXT   The logging level threshold, choices=['debug',\n",
      "                         'info', 'warning', 'error', 'critical'],\n",
      "                         default='info'\n",
      "\n",
      "  --logging-format TEXT  The logging format. default='%(asctime)s\n",
      "                         %(levelname)s %(filename)s:%(lineno)s -- %(message)s'\n",
      "\n",
      "  --version              Show the version and exit.\n",
      "  --help                 Show this message and exit.\n",
      "\n",
      "Commands:\n",
      "  attach           Create or attach to a SSH session to a Ray cluster.\n",
      "  dashboard        Port-forward a Ray cluster's dashboard to the local...\n",
      "  debug            Show all active breakpoints and exceptions in the Ray...\n",
      "  down             Tear down a Ray cluster.\n",
      "  exec             Execute a command via SSH on a Ray cluster.\n",
      "  get-head-ip      Return the head node IP of a Ray cluster.\n",
      "  get-worker-ips   Return the list of worker IPs of a Ray cluster.\n",
      "  install-nightly  Install the latest wheels for Ray.\n",
      "  memory           Print object references held in a Ray cluster.\n",
      "  microbenchmark   Run a local Ray microbenchmark on the current machine.\n",
      "  monitor          Tails the autoscaler logs of a Ray cluster.\n",
      "  rsync-down       Download specific files from a Ray cluster.\n",
      "  rsync-up         Upload specific files to a Ray cluster.\n",
      "  stack            Take a stack dump of all Python workers on the local...\n",
      "  start            Start Ray processes manually on the local machine.\n",
      "  status           Print cluster status, including autoscaling info.\n",
      "  stop             Stop Ray processes manually on the local machine.\n",
      "  submit           Uploads and runs a script on the specified cluster.\n",
      "  timeline         Take a Chrome tracing timeline for a Ray cluster.\n",
      "  up               Create or update a Ray cluster.\n",
      "\u001b[0m"
     ]
    }
   ],
   "source": [
    "!ray "
   ]
  },
  {
   "cell_type": "code",
   "execution_count": 6,
   "metadata": {},
   "outputs": [],
   "source": [
    "%autoreload\n",
    "import torch\n",
    "import pytorch_lightning as lit\n",
    "from ray import tune\n",
    "from ray.tune import JupyterNotebookReporter, CLIReporter\n",
    "from ray.tune.integration.pytorch_lightning import TuneReportCallback\n",
    "from ray.tune.suggest.hyperopt import HyperOptSearch\n",
    "from ray.tune.suggest import ConcurrencyLimiter\n",
    "from ray.tune.schedulers import ASHAScheduler\n",
    "from ray.tune.stopper import TrialPlateauStopper\n",
    "from ray.util import inspect_serializability\n",
    "\n",
    "\n",
    "from reappraisalmodel.lightningreapp import LightningReapp\n",
    "\n",
    "default_tune_config = {\n",
    "    \"lr\": tune.loguniform(1e-4, 1e-1), # loguniform samples by magnitude\n",
    "    \"num_embedding_layers\": tune.choice([1,2,3])\n",
    "}\n",
    "\n",
    "\n",
    "def train_tune(config, ldhdata, num_gpus=None, num_epochs=10):\n",
    "    model = LightningReapp(config)\n",
    "    trainer = lit.Trainer(\n",
    "        max_epochs=num_epochs,\n",
    "        gpus=num_gpus,\n",
    "        progress_bar_refresh_rate=0,\n",
    "        weights_summary=None,\n",
    "        callbacks=[callback_tuner_val],\n",
    "    )\n",
    "    trainer.fit(model, ldhdata)\n",
    "\n",
    "hp_search = HyperOptSearch(metric='loss', mode='min')\n",
    "search_alg = ConcurrencyLimiter(hp_search, max_concurrent=4)\n",
    "\n",
    "scheduler = ASHAScheduler(\n",
    "    time_attr='training_iteration', \n",
    "    grace_period=2, \n",
    "    max_t=15)\n",
    "\n",
    "reporter = JupyterNotebookReporter(\n",
    "    overwrite=True,\n",
    "    parameter_columns=[\"lr\", 'num_embedding_layers'],\n",
    "    metric_columns=[\"loss\", \"training_iteration\", \"explained_variance\"],\n",
    "    print_intermediate_tables=True,\n",
    "    max_report_frequency=1,\n",
    ")\n",
    "\n",
    "\n",
    "\n",
    "\n",
    "callback_tuner_val = TuneReportCallback(\n",
    "    {\n",
    "        \"loss\": \"val_loss\",\n",
    "        \"explained_var\": \"explained_var\"\n",
    "    },\n",
    "    on=\"validation_end\",\n",
    ")\n",
    "\n",
    "trial_stopper = TrialPlateauStopper(\"explained_var\", mode='max', num_results=3)\n"
   ]
  },
  {
   "cell_type": "code",
   "execution_count": null,
   "metadata": {},
   "outputs": [
    {
     "data": {
      "text/html": [
       "== Status ==<br>Memory usage on this node: 2.3/59.9 GiB<br>Using FIFO scheduling algorithm.<br>Resources requested: 1/4 CPUs, 0.25/1 GPUs, 0.0/35.11 GiB heap, 0.0/12.11 GiB objects (0/1.0 accelerator_type:K80)<br>Result logdir: /home/ubuntu/reapp/reapp_logs/tune/_inner_2021-03-04_11-49-15<br>Number of trials: 1/10 (1 RUNNING)<br><table>\n",
       "<thead>\n",
       "<tr><th>Trial name     </th><th>status  </th><th>loc  </th><th style=\"text-align: right;\">        lr</th><th style=\"text-align: right;\">  num_embedding_layers</th></tr>\n",
       "</thead>\n",
       "<tbody>\n",
       "<tr><td>_inner_a53e88ae</td><td>RUNNING </td><td>     </td><td style=\"text-align: right;\">0.00034753</td><td style=\"text-align: right;\">                     2</td></tr>\n",
       "</tbody>\n",
       "</table><br><br>"
      ],
      "text/plain": [
       "<IPython.core.display.HTML object>"
      ]
     },
     "metadata": {},
     "output_type": "display_data"
    },
    {
     "name": "stderr",
     "output_type": "stream",
     "text": [
      "\u001b[2m\u001b[36m(pid=11853)\u001b[0m GPU available: True, used: True\n",
      "\u001b[2m\u001b[36m(pid=11853)\u001b[0m TPU available: None, using: 0 TPU cores\n",
      "\u001b[2m\u001b[36m(pid=11855)\u001b[0m GPU available: True, used: True\n",
      "\u001b[2m\u001b[36m(pid=11855)\u001b[0m TPU available: None, using: 0 TPU cores\n",
      "\u001b[2m\u001b[36m(pid=11854)\u001b[0m GPU available: True, used: True\n",
      "\u001b[2m\u001b[36m(pid=11854)\u001b[0m TPU available: None, using: 0 TPU cores\n",
      "\u001b[2m\u001b[36m(pid=11852)\u001b[0m GPU available: True, used: True\n",
      "\u001b[2m\u001b[36m(pid=11852)\u001b[0m TPU available: None, using: 0 TPU cores\n",
      "\u001b[2m\u001b[36m(pid=11854)\u001b[0m /home/ubuntu/anaconda3/envs/reapp/lib/python3.8/site-packages/pytorch_lightning/utilities/distributed.py:50: UserWarning: The dataloader, val dataloader 0, does not have many workers which may be a bottleneck. Consider increasing the value of the `num_workers` argument` (try 4 which is the number of cpus on this machine) in the `DataLoader` init to improve performance.\n",
      "\u001b[2m\u001b[36m(pid=11854)\u001b[0m   warnings.warn(*args, **kwargs)\n",
      "\u001b[2m\u001b[36m(pid=11854)\u001b[0m /home/ubuntu/anaconda3/envs/reapp/lib/python3.8/site-packages/datasets/arrow_dataset.py:851: UserWarning: The given NumPy array is not writeable, and PyTorch does not support non-writeable tensors. This means you can write to the underlying (supposedly non-writeable) NumPy array using the tensor. You may want to copy the array to protect its data or make it writeable before converting it to a tensor. This type of warning will be suppressed for the rest of this program. (Triggered internally at  /opt/conda/conda-bld/pytorch_1607370172916/work/torch/csrc/utils/tensor_numpy.cpp:141.)\n",
      "\u001b[2m\u001b[36m(pid=11854)\u001b[0m   return torch.tensor(x, **format_kwargs)\n",
      "\u001b[2m\u001b[36m(pid=11855)\u001b[0m /home/ubuntu/anaconda3/envs/reapp/lib/python3.8/site-packages/pytorch_lightning/utilities/distributed.py:50: UserWarning: The dataloader, val dataloader 0, does not have many workers which may be a bottleneck. Consider increasing the value of the `num_workers` argument` (try 4 which is the number of cpus on this machine) in the `DataLoader` init to improve performance.\n",
      "\u001b[2m\u001b[36m(pid=11855)\u001b[0m   warnings.warn(*args, **kwargs)\n",
      "\u001b[2m\u001b[36m(pid=11855)\u001b[0m /home/ubuntu/anaconda3/envs/reapp/lib/python3.8/site-packages/datasets/arrow_dataset.py:851: UserWarning: The given NumPy array is not writeable, and PyTorch does not support non-writeable tensors. This means you can write to the underlying (supposedly non-writeable) NumPy array using the tensor. You may want to copy the array to protect its data or make it writeable before converting it to a tensor. This type of warning will be suppressed for the rest of this program. (Triggered internally at  /opt/conda/conda-bld/pytorch_1607370172916/work/torch/csrc/utils/tensor_numpy.cpp:141.)\n",
      "\u001b[2m\u001b[36m(pid=11855)\u001b[0m   return torch.tensor(x, **format_kwargs)\n",
      "\u001b[2m\u001b[36m(pid=11852)\u001b[0m /home/ubuntu/anaconda3/envs/reapp/lib/python3.8/site-packages/pytorch_lightning/utilities/distributed.py:50: UserWarning: The dataloader, val dataloader 0, does not have many workers which may be a bottleneck. Consider increasing the value of the `num_workers` argument` (try 4 which is the number of cpus on this machine) in the `DataLoader` init to improve performance.\n",
      "\u001b[2m\u001b[36m(pid=11852)\u001b[0m   warnings.warn(*args, **kwargs)\n",
      "\u001b[2m\u001b[36m(pid=11853)\u001b[0m /home/ubuntu/anaconda3/envs/reapp/lib/python3.8/site-packages/pytorch_lightning/utilities/distributed.py:50: UserWarning: The dataloader, val dataloader 0, does not have many workers which may be a bottleneck. Consider increasing the value of the `num_workers` argument` (try 4 which is the number of cpus on this machine) in the `DataLoader` init to improve performance.\n",
      "\u001b[2m\u001b[36m(pid=11853)\u001b[0m   warnings.warn(*args, **kwargs)\n",
      "\u001b[2m\u001b[36m(pid=11853)\u001b[0m /home/ubuntu/anaconda3/envs/reapp/lib/python3.8/site-packages/datasets/arrow_dataset.py:851: UserWarning: The given NumPy array is not writeable, and PyTorch does not support non-writeable tensors. This means you can write to the underlying (supposedly non-writeable) NumPy array using the tensor. You may want to copy the array to protect its data or make it writeable before converting it to a tensor. This type of warning will be suppressed for the rest of this program. (Triggered internally at  /opt/conda/conda-bld/pytorch_1607370172916/work/torch/csrc/utils/tensor_numpy.cpp:141.)\n",
      "\u001b[2m\u001b[36m(pid=11853)\u001b[0m   return torch.tensor(x, **format_kwargs)\n",
      "\u001b[2m\u001b[36m(pid=11852)\u001b[0m /home/ubuntu/anaconda3/envs/reapp/lib/python3.8/site-packages/datasets/arrow_dataset.py:851: UserWarning: The given NumPy array is not writeable, and PyTorch does not support non-writeable tensors. This means you can write to the underlying (supposedly non-writeable) NumPy array using the tensor. You may want to copy the array to protect its data or make it writeable before converting it to a tensor. This type of warning will be suppressed for the rest of this program. (Triggered internally at  /opt/conda/conda-bld/pytorch_1607370172916/work/torch/csrc/utils/tensor_numpy.cpp:141.)\n",
      "\u001b[2m\u001b[36m(pid=11852)\u001b[0m   return torch.tensor(x, **format_kwargs)\n",
      "\u001b[2m\u001b[36m(pid=11854)\u001b[0m /home/ubuntu/anaconda3/envs/reapp/lib/python3.8/site-packages/pytorch_lightning/utilities/distributed.py:50: UserWarning: The dataloader, train dataloader, does not have many workers which may be a bottleneck. Consider increasing the value of the `num_workers` argument` (try 4 which is the number of cpus on this machine) in the `DataLoader` init to improve performance.\n",
      "\u001b[2m\u001b[36m(pid=11854)\u001b[0m   warnings.warn(*args, **kwargs)\n",
      "\u001b[2m\u001b[36m(pid=11855)\u001b[0m /home/ubuntu/anaconda3/envs/reapp/lib/python3.8/site-packages/pytorch_lightning/utilities/distributed.py:50: UserWarning: The dataloader, train dataloader, does not have many workers which may be a bottleneck. Consider increasing the value of the `num_workers` argument` (try 4 which is the number of cpus on this machine) in the `DataLoader` init to improve performance.\n",
      "\u001b[2m\u001b[36m(pid=11855)\u001b[0m   warnings.warn(*args, **kwargs)\n",
      "\u001b[2m\u001b[36m(pid=11853)\u001b[0m /home/ubuntu/anaconda3/envs/reapp/lib/python3.8/site-packages/pytorch_lightning/utilities/distributed.py:50: UserWarning: The dataloader, train dataloader, does not have many workers which may be a bottleneck. Consider increasing the value of the `num_workers` argument` (try 4 which is the number of cpus on this machine) in the `DataLoader` init to improve performance.\n",
      "\u001b[2m\u001b[36m(pid=11853)\u001b[0m   warnings.warn(*args, **kwargs)\n",
      "\u001b[2m\u001b[36m(pid=11852)\u001b[0m /home/ubuntu/anaconda3/envs/reapp/lib/python3.8/site-packages/pytorch_lightning/utilities/distributed.py:50: UserWarning: The dataloader, train dataloader, does not have many workers which may be a bottleneck. Consider increasing the value of the `num_workers` argument` (try 4 which is the number of cpus on this machine) in the `DataLoader` init to improve performance.\n",
      "\u001b[2m\u001b[36m(pid=11852)\u001b[0m   warnings.warn(*args, **kwargs)\n"
     ]
    }
   ],
   "source": [
    "analysis = tune.run(\n",
    "    tune.with_parameters(train_tune,\n",
    "        ldhdata=ldhdata,\n",
    "        num_gpus=1),\n",
    "    local_dir=f\"{ROOT_DIR}/reapp_logs/tune\",\n",
    "    config=default_tune_config, \n",
    "    \n",
    "    resources_per_trial={\n",
    "        \"cpu\": 1,\n",
    "        \"gpu\": 0.25\n",
    "    },\n",
    "    metric=\"loss\",\n",
    "    mode='min',\n",
    "    stop=trial_stopper,\n",
    "    search_alg=search_alg,\n",
    "    progress_reporter=reporter,\n",
    "    num_samples=10,\n",
    "    fail_fast=True)\n",
    "print(\"Best hyperparameters found were: \", analysis.best_config)"
   ]
  },
  {
   "cell_type": "code",
   "execution_count": null,
   "metadata": {},
   "outputs": [],
   "source": [
    "#hide\n",
    "from nbdev.export import notebook2script,\n",
    "\n",
    "notebook2script(\"Trainers.ipynb\")"
   ]
  },
  {
   "cell_type": "code",
   "execution_count": null,
   "metadata": {},
   "outputs": [],
   "source": [
    "!nbdev_update_lib\n"
   ]
  },
  {
   "cell_type": "code",
   "execution_count": null,
   "metadata": {},
   "outputs": [],
   "source": []
  },
  {
   "cell_type": "code",
   "execution_count": null,
   "metadata": {},
   "outputs": [],
   "source": []
  }
 ],
 "metadata": {
  "kernelspec": {
   "display_name": "Python 3",
   "language": "python",
   "name": "python3"
  },
  "language_info": {
   "codemirror_mode": {
    "name": "ipython",
    "version": 3
   },
   "file_extension": ".py",
   "mimetype": "text/x-python",
   "name": "python",
   "nbconvert_exporter": "python",
   "pygments_lexer": "ipython3",
   "version": "3.8.8"
  }
 },
 "nbformat": 4,
 "nbformat_minor": 4
}
