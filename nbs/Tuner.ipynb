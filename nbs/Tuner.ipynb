{
 "cells": [
  {
   "cell_type": "code",
   "execution_count": null,
   "id": "authorized-charger",
   "metadata": {},
   "outputs": [],
   "source": [
    "# default_exp trainers\n",
    "\n",
    "callback_tuner = TuneReportCallback({\n",
    "    \"loss\": \"val_loss\",\n",
    "    #\"mean_accuracy\": \"val_accuracy\"\n",
    "    },\n",
    "    on=\"validation_end\")\n",
    "### TUNING HYPERPARAMETERS\n",
    "from ray import tune\n",
    "def train_tune(config, epochs=10, gpus=0):\n",
    "    model = LightningReapp(config)\n",
    "    trainer = ReappTrainer(\n",
    "        num_folds=3,\n",
    "        fast_dev_run=1,\n",
    "        max_epochs=epochs,\n",
    "        gpus=gpus,\n",
    "        progress_bar_refresh_rate=30,\n",
    "        callbacks=[callback_tuner])\n",
    "    trainer.fit(model, ldhdata)\n",
    "\n",
    "tune_config = {\n",
    "    \"lr\": tune.loguniform(1e-4, 1e-1),\n",
    "}\n",
    "# https://medium.com/distributed-computing-with-ray/scaling-up-pytorch-lightning-hyperparameter-tuning-with-ray-tune-4bd9e1ff9929\n",
    "from functools import partial\n",
    "tune.run(\n",
    "  partial(train_tune, gpus=0),\n",
    "  config=tune_config,\n",
    "  num_samples=2)\n"
   ]
  }
 ],
 "metadata": {
  "kernelspec": {
   "display_name": "Python 3",
   "language": "python",
   "name": "python3"
  }
 },
 "nbformat": 4,
 "nbformat_minor": 5
}
