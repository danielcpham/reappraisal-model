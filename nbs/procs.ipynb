{
 "cells": [
  {
   "cell_type": "markdown",
   "metadata": {},
   "source": [
    "# Reappraisal Training on PyTorch Lightning"
   ]
  },
  {
   "cell_type": "markdown",
   "metadata": {},
   "source": [
    "## Setup\n",
    "- When running on Google Colab, mount Google Drive to access scripts.\n",
    "- `cd` into the project root and install dependencies."
   ]
  },
  {
   "cell_type": "code",
   "execution_count": null,
   "metadata": {},
   "outputs": [],
   "source": [
    "%load_ext autoreload\n",
    "from google.colab import drive\n",
    "drive.mount('/content/drive')\n",
    "root_dir = \"/content/drive/MyDrive/ldh\"\n",
    "%cd {root_dir}\n",
    "\n",
    "import nltk\n",
    "nltk.download('punkt')\n",
    "\n",
    "%pip install transformers datasets pytorch-lightning \"ray[tune]\"\n",
    "#root_dir = \"/Users/danielpham/Google Drive/ldh\""
   ]
  },
  {
   "cell_type": "code",
   "execution_count": null,
   "metadata": {},
   "outputs": [],
   "source": [
    "from datetime import datetime\n",
    "from pathlib import Path\n",
    "\n",
    "import torch\n",
    "import pandas as pd \n",
    "import pytorch_lightning as lit \n",
    "from pytorch_lightning.callbacks import EarlyStopping, ModelCheckpoint, Callback\n",
    "\n",
    "num_folds = 3\n",
    "batch_size = 16\n",
    "strat = 'far'\n",
    "#root_dir = \"/content/drive/MyDrive/ldh\""
   ]
  },
  {
   "cell_type": "code",
   "execution_count": null,
   "metadata": {},
   "outputs": [],
   "source": [
    "from reappraisalmodel.ldhdata import LDHDataModule\n",
    "\n",
    "default_config = {\n",
    "    'lr': 1e-3,\n",
    "    'hidden_layer_size': 50\n",
    "}\n",
    "\n",
    "save_dir = Path(root_dir, 'output')\n",
    "# Stops when the val loss stops changing\n",
    "callback_earlystopping = EarlyStopping(monitor='val_loss', min_delta=0.0001, patience=5, verbose=True)\n",
    "ldhdata = LDHDataModule(batch_size=batch_size, strat=strat, kfolds=num_folds, data_dir=root_dir)"
   ]
  },
  {
   "cell_type": "code",
   "execution_count": null,
   "metadata": {},
   "outputs": [],
   "source": [
    "### K-FOLD CV\n",
    "%load_ext autoreload\n",
    "%autoreload\n",
    "from datetime import datetime\n",
    "\n",
    "import torch\n",
    "\n",
    "from reappraisalmodel.lightningreapp import LightningReapp\n",
    "\n",
    "def kfold_train(num_folds):\n",
    "    all_metrics = []\n",
    "    for i in range(num_folds):\n",
    "        split = i # Current split being trained\n",
    "        train_dl = ldhdata.get_train_dataloader(split)\n",
    "        val_dl = ldhdata.get_val_dataloader(split)\n",
    "        \n",
    "        strat = ldhdata.strat\n",
    "        dt = datetime.now() # get the datetime \n",
    "        \n",
    "        callback_checkpoint = ModelCheckpoint(\n",
    "            dirpath=save_dir / strat,\n",
    "            filename='{epoch}-{val_loss:.2f}',\n",
    "            monitor='val_loss', verbose=False, \n",
    "            save_last=False, save_top_k=1, save_weights_only=False, \n",
    "            mode='min', period=1, prefix=strat)\n",
    "\n",
    "        model = LightningReapp(default_config)\n",
    "        trainer = lit.Trainer(\n",
    "            gpus = 1 if torch.cuda.is_available() else None,\n",
    "            gradient_clip_val=1.0,\n",
    "            progress_bar_refresh_rate=30,\n",
    "            terminate_on_nan=True,\n",
    "            weights_summary=None,\n",
    "            weights_save_path=save_dir / stra,\n",
    "            callbacks=[callback_checkpoint,callback_earlystopping])\n",
    "        print(f\"Training on split {i + 1}\")\n",
    "        trainer.fit(model, train_dl, val_dl)\n",
    "        all_metrics.append(trainer.logged_metrics)\n",
    "    return pd.DataFrame(all_metrics)"
   ]
  },
  {
   "cell_type": "code",
   "execution_count": null,
   "metadata": {},
   "outputs": [],
   "source": [
    "kfold_train(num_folds)\n"
   ]
  },
  {
   "cell_type": "code",
   "execution_count": null,
   "metadata": {},
   "outputs": [],
   "source": []
  },
  {
   "cell_type": "code",
   "execution_count": null,
   "metadata": {},
   "outputs": [],
   "source": []
  }
 ],
 "metadata": {
  "kernelspec": {
   "display_name": "Python 3",
   "language": "python",
   "name": "python3"
  }
 },
 "nbformat": 4,
 "nbformat_minor": 0
}
