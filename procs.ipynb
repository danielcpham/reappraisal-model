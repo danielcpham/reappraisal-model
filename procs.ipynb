{
 "cells": [
  {
   "cell_type": "markdown",
   "metadata": {},
   "source": [
    "# Reappraisal Training on PyTorch Lightning"
   ]
  },
  {
   "cell_type": "markdown",
   "metadata": {},
   "source": [
    "## Setup\n",
    "- When running on Google Colab, mount Google Drive to access scripts.\n",
    "- `cd` into the project root and install dependencies:"
   ]
  },
  {
   "cell_type": "code",
   "execution_count": null,
   "metadata": {},
   "outputs": [],
   "source": [
    "%load_ext autoreload"
   ]
  },
  {
   "cell_type": "code",
   "execution_count": null,
   "metadata": {},
   "outputs": [],
   "source": [
    "import torch\n",
    "\n",
    "# Define constants\n",
    "STRAT = 'obj'\n",
    "BATCH_SIZE = 64\n",
    "NUM_FOLDS=5"
   ]
  },
  {
   "cell_type": "markdown",
   "metadata": {},
   "source": [
    "## Load LDH Data\n",
    "\n",
    "Contains the following:\n",
    "\n",
    "- LDHI\n",
    "- LDHII"
   ]
  },
  {
   "cell_type": "code",
   "execution_count": null,
   "metadata": {},
   "outputs": [
    {
     "name": "stderr",
     "output_type": "stream",
     "text": [
      "Loading cached processed dataset at output/training/obj/cache-50ed3c54936a704e.arrow\n"
     ]
    },
    {
     "name": "stdout",
     "output_type": "stream",
     "text": [
      "Training data loaded from disk.\n",
      "Encoding Training Data:\n",
      "Evaluation data loaded from disk.\n",
      "Encoding Test Data\n",
      "\n"
     ]
    },
    {
     "data": {
      "application/vnd.jupyter.widget-view+json": {
       "model_id": "069fdfd5d1634d7db7e8d27012de788f",
       "version_major": 2,
       "version_minor": 0
      },
      "text/plain": "HBox(children=(FloatProgress(value=0.0, max=32109.0), HTML(value='')))"
     },
     "metadata": {
      "transient": {}
     },
     "output_type": "display_data"
    }
   ],
   "source": [
    "from reappraisalmodel.ldhdata import LDHDataModule\n",
    "ldhdata = LDHDataModule(data_dir='.', strat=STRAT)\n",
    "ldhdata.load_train_data()\n",
    "ldhdata.load_eval_data()"
   ]
  },
  {
   "cell_type": "markdown",
   "metadata": {},
   "source": [
    "## Run K-Fold Training\n"
   ]
  },
  {
   "cell_type": "code",
   "execution_count": null,
   "metadata": {},
   "outputs": [],
   "source": [
    "%autoreload 2\n",
    "from reappraisalmodel.trainers import kfold_train\n",
    "results = kfold_train(NUM_FOLDS, ldhdata, strat=STRAT, \n",
    "                       max_epochs=15, \n",
    "#                        limit_train_batches=2,\n",
    "#                        limit_val_batches=1\n",
    "                    )\n"
   ]
  },
  {
   "cell_type": "code",
   "execution_count": null,
   "metadata": {},
   "outputs": [],
   "source": [
    "import pandas as pd\n",
    "\n",
    "df = pd.DataFrame(results)\n",
    "df['r2score'] = df['r2score'].apply(lambda x: x.item())\n",
    "df['explained_var'] = df['explained_var'].apply(lambda x: x.item())\n",
    "df.describe()"
   ]
  },
  {
   "cell_type": "markdown",
   "metadata": {},
   "source": [
    "## Tuning Hyperparameters\n"
   ]
  },
  {
   "cell_type": "code",
   "execution_count": null,
   "metadata": {},
   "outputs": [],
   "source": [
    "# export\n",
    "%autoreload\n",
    "import torch\n",
    "import pytorch_lightning as lit\n",
    "from pytorch_lightning.loggers import TensorBoardLogger\n",
    "from ray.tune.integration.pytorch_lightning import TuneReportCallback\n",
    "from ray import tune\n",
    "\n",
    "from reappraisalmodel.lightningreapp import LightningReapp\n",
    "\n",
    "default_tune_config = {\n",
    "    \"lr\": tune.loguniform(1e-4, 1e-1), # loguniform samples by magnitude\n",
    "    \"hidden_layer_size\": tune.randint(0,50),\n",
    "}\n",
    "\n",
    "callback_tuner = TuneReportCallback(\n",
    "    {\n",
    "        \"loss\": \"val_loss\",\n",
    "    },\n",
    "    on=\"validation_end\",\n",
    ")\n",
    "\n",
    "### TUNING HYPERPARAMETERS\n",
    "def train_tune(config, ldhdata, num_gpus=None, num_epochs=10):\n",
    "    model = LightningReapp(config)\n",
    "    print(\"Running tune\")\n",
    "    trainer = lit.Trainer(\n",
    "        limit_train_batches=1,\n",
    "        limit_val_batches=1,\n",
    "        gpus=num_gpus,\n",
    "        callbacks=[callback_tuner],\n",
    "    )\n",
    "    trainer.fit(model, ldhdata)\n",
    "\n",
    "analysis = tune.run(\n",
    "    tune.with_parameters(train_tune,\n",
    "        ldhdata=ldhdata,\n",
    "        num_epochs=1),\n",
    "    config=default_tune_config, \n",
    "    num_samples=2)\n",
    "print(\"Best hyperparameters found were: \", analysis.best_config)\n"
   ]
  },
  {
   "cell_type": "code",
   "execution_count": null,
   "metadata": {},
   "outputs": [],
   "source": [
    "%autoreload\n",
    "import pytorch_lightning as lit\n",
    "\n",
    "from reappraisalmodel.lightningreapp import LightningReapp\n",
    "\n",
    "model = LightningReapp({\n",
    "    'lr': 1e-3,\n",
    "    'hidden_layer_size': 50\n",
    "})\n",
    "\n",
    "trainer = lit.Trainer(fast_dev_run=1)\n",
    "trainer.fit(model, ldhdata)\n"
   ]
  },
  {
   "cell_type": "markdown",
   "metadata": {},
   "source": [
    "## Extra!"
   ]
  },
  {
   "cell_type": "code",
   "execution_count": null,
   "metadata": {},
   "outputs": [],
   "source": [
    "%autoreload\n",
    "from reappraisalmodel.lightningreapp import LightningReapp\n",
    "objmodel = LightningReapp.load_from_checkpoint(\"s3://ldhdata/backup/far-0224-epoch=2-step=2021.ckpt\")\n"
   ]
  },
  {
   "cell_type": "code",
   "execution_count": null,
   "metadata": {},
   "outputs": [],
   "source": [
    "from tqdm import tqdm\n",
    "objmodel.cuda()\n",
    "objmodel.eval()\n",
    "objouts = []\n",
    "for batch_idx, batch in enumerate(tqdm(objdl)):\n",
    "    input_ids = batch['input_ids'].cuda()\n",
    "    attention_mask = batch['attention_mask'].cuda()\n",
    "    out = objmodel(input_ids, attention_mask)\n",
    "    objouts.append(out.sum(dim=1))\n",
    "print(objouts)"
   ]
  },
  {
   "cell_type": "code",
   "execution_count": null,
   "metadata": {},
   "outputs": [
    {
     "name": "stderr",
     "output_type": "stream",
     "text": [
      "GPU available: True, used: True\n",
      "TPU available: None, using: 0 TPU cores\n",
      "Using native 16bit precision.\n",
      "\n",
      "  | Name          | Type              | Params\n",
      "----------------------------------------------------\n",
      "0 | bert          | DistilBertModel   | 66.4 M\n",
      "1 | classifier    | Sequential        | 38.8 K\n",
      "2 | train_loss    | MeanSquaredError  | 0     \n",
      "3 | val_loss      | MeanSquaredError  | 0     \n",
      "4 | r2score       | R2Score           | 0     \n",
      "5 | explained_var | ExplainedVariance | 0     \n",
      "----------------------------------------------------\n",
      "38.8 K    Trainable params\n",
      "66.4 M    Non-trainable params\n",
      "66.4 M    Total params\n",
      "265.607   Total estimated model params size (MB)\n",
      "Epoch 0, global step 40: val_loss reached 1.90197 (best 1.90197), saving model to \"lightning_logs/reapp_model/obj_20210306_184726/checkpoints/epoch=0-step=40.ckpt\" as top 3\n",
      "Epoch 0, global step 40: loss_distance reached 4.07076 (best 4.07076), saving model to \"lightning_logs/reapp_model/obj_20210306_184726/checkpoints/epoch=0-step=40-v1.ckpt\" as top 3\n"
     ]
    },
    {
     "data": {
      "application/vnd.jupyter.widget-view+json": {
       "model_id": "e613aad3b95d4f9496254b6859cb68d6",
       "version_major": 2,
       "version_minor": 0
      },
      "text/plain": "HBox(children=(FloatProgress(value=1.0, bar_style='info', description='Validation sanity check', layout=Layout…"
     },
     "metadata": {
      "transient": {}
     },
     "output_type": "display_data"
    },
    {
     "data": {
      "application/vnd.jupyter.widget-view+json": {
       "model_id": "6ba0ecbc733942cd86798742824347e2",
       "version_major": 2,
       "version_minor": 0
      },
      "text/plain": "HBox(children=(FloatProgress(value=1.0, bar_style='info', description='Training', layout=Layout(flex='2'), max…"
     },
     "metadata": {
      "transient": {}
     },
     "output_type": "display_data"
    },
    {
     "data": {
      "application/vnd.jupyter.widget-view+json": {
       "model_id": "efa1b4e4a396470da2c4b1abfc1753a7",
       "version_major": 2,
       "version_minor": 0
      },
      "text/plain": "HBox(children=(FloatProgress(value=1.0, bar_style='info', description='Validating', layout=Layout(flex='2'), m…"
     },
     "metadata": {
      "transient": {}
     },
     "output_type": "display_data"
    }
   ],
   "source": [
    "%autoreload\n",
    "import datetime\n",
    "import torch\n",
    "import pytorch_lightning as lit\n",
    "from pytorch_lightning.callbacks import ModelCheckpoint, EarlyStopping\n",
    "from pytorch_lightning.loggers import TensorBoardLogger\n",
    "from torch.utils.data import DataLoader\n",
    "\n",
    "from reappraisalmodel.lightningreapp import LightningReapp\n",
    "\n",
    "\n",
    "model = LightningReapp()\n",
    "\n",
    "\n",
    "modelcheckpoint = ModelCheckpoint(\n",
    "    monitor='val_loss',\n",
    "    mode='min',\n",
    "    save_top_k=3,\n",
    "    verbose=True\n",
    "    )\n",
    "\n",
    "modelcheckpoint_loss_dist = ModelCheckpoint(\n",
    "    monitor='loss_distance',\n",
    "    mode='min',\n",
    "    save_top_k=3,\n",
    "    verbose=True\n",
    ")\n",
    "\n",
    "ldhdata.train_data.set_format(type='torch', columns=['score', 'input_ids', 'attention_mask'])\n",
    "data = ldhdata.train_data.train_test_split(test_size=0.2)\n",
    "train_data = data['train']\n",
    "val_data = data['test']\n",
    "train_dl = DataLoader(train_data, batch_size=BATCH_SIZE, num_workers=4,shuffle=True)\n",
    "val_dl = DataLoader(val_data, batch_size=BATCH_SIZE, shuffle=True, num_workers=4)\n",
    "\n",
    "today = datetime.datetime.today().strftime('%Y%m%d_%H%M%S')\n",
    "trainer = lit.Trainer(\n",
    "    logger = TensorBoardLogger(\"lightning_logs\", name=\"reapp_model\", version=\"_\".join([STRAT,today])),\n",
    "    precision=16,\n",
    "    val_check_interval=0.25,\n",
    "    callbacks=[modelcheckpoint, earlystopping, modelcheckpoint_loss_dist],\n",
    "    gpus=1)\n",
    "\n",
    "results = trainer.fit(model, train_dl, val_dl)\n",
    "\n"
   ]
  },
  {
   "cell_type": "code",
   "execution_count": null,
   "metadata": {},
   "outputs": [
    {
     "data": {
      "text/plain": "1"
     },
     "execution_count": null,
     "metadata": {},
     "output_type": "execute_result"
    }
   ],
   "source": [
    "ldhdata.eval_data.set_format(type='torch', columns=['input_ids', 'attention_mask'])\n",
    "eval_data = ldhdata.eval_data\n",
    "eval_dl = DataLoader(eval_data, batch_size=BATCH_SIZE, num_workers=4,shuffle=True)\n",
    "\n",
    "results = trainer.test(model, eval_dl)\n",
    "\n",
    "import pickle\n",
    "with open(\"results_obj\", \"wb+\") as f:\n",
    "pickle.dump(results, f)"
   ]
  },
  {
   "cell_type": "code",
   "execution_count": null,
   "metadata": {},
   "outputs": [
    {
     "name": "stderr",
     "output_type": "stream",
     "text": [
      "Loading cached processed dataset at output/training/obj/cache-50ed3c54936a704e.arrow\n",
      "GPU available: True, used: True\n",
      "TPU available: None, using: 0 TPU cores\n",
      "Using native 16bit precision.\n",
      "\n",
      "  | Name          | Type              | Params\n",
      "----------------------------------------------------\n",
      "0 | bert          | DistilBertModel   | 66.4 M\n",
      "1 | classifier    | Sequential        | 38.8 K\n",
      "2 | train_loss    | MeanSquaredError  | 0     \n",
      "3 | val_loss      | MeanSquaredError  | 0     \n",
      "4 | r2score       | R2Score           | 0     \n",
      "5 | explained_var | ExplainedVariance | 0     \n",
      "----------------------------------------------------\n",
      "38.8 K    Trainable params\n",
      "66.4 M    Non-trainable params\n",
      "66.4 M    Total params\n",
      "265.607   Total estimated model params size (MB)\n"
     ]
    },
    {
     "name": "stdout",
     "output_type": "stream",
     "text": [
      "Training data loaded from disk.\n",
      "Encoding Training Data:\n",
      "Evaluation data loaded from disk.\n",
      "Encoding Test Data\n",
      "\n",
      "\n"
     ]
    },
    {
     "data": {
      "application/vnd.jupyter.widget-view+json": {
       "model_id": "907310736e12414b8cc99a00e246b1aa",
       "version_major": 2,
       "version_minor": 0
      },
      "text/plain": "HBox(children=(FloatProgress(value=0.0, max=32109.0), HTML(value='')))"
     },
     "metadata": {
      "transient": {}
     },
     "output_type": "display_data"
    },
    {
     "data": {
      "application/vnd.jupyter.widget-view+json": {
       "model_id": "f6c9e28e89a24002a67de3ffae282722",
       "version_major": 2,
       "version_minor": 0
      },
      "text/plain": "HBox(children=(FloatProgress(value=1.0, bar_style='info', description='Validation sanity check', layout=Layout…"
     },
     "metadata": {
      "transient": {}
     },
     "output_type": "display_data"
    },
    {
     "data": {
      "application/vnd.jupyter.widget-view+json": {
       "model_id": "c1e3f108e8704be8bd4c4fd75be450f0",
       "version_major": 2,
       "version_minor": 0
      },
      "text/plain": "HBox(children=(FloatProgress(value=1.0, bar_style='info', description='Training', layout=Layout(flex='2'), max…"
     },
     "metadata": {
      "transient": {}
     },
     "output_type": "display_data"
    },
    {
     "data": {
      "application/vnd.jupyter.widget-view+json": {
       "model_id": "ca023146184a4195b7e2b602827c11f7",
       "version_major": 2,
       "version_minor": 0
      },
      "text/plain": "HBox(children=(FloatProgress(value=1.0, bar_style='info', description='Validating', layout=Layout(flex='2'), m…"
     },
     "metadata": {
      "transient": {}
     },
     "output_type": "display_data"
    },
    {
     "data": {
      "application/vnd.jupyter.widget-view+json": {
       "model_id": "6f1fb1f5105f4d1e82e2352a7ea1ebe1",
       "version_major": 2,
       "version_minor": 0
      },
      "text/plain": "HBox(children=(FloatProgress(value=1.0, bar_style='info', description='Validating', layout=Layout(flex='2'), m…"
     },
     "metadata": {
      "transient": {}
     },
     "output_type": "display_data"
    },
    {
     "data": {
      "application/vnd.jupyter.widget-view+json": {
       "model_id": "a4d8a4dc5c984235951f4b0e154abd67",
       "version_major": 2,
       "version_minor": 0
      },
      "text/plain": "HBox(children=(FloatProgress(value=1.0, bar_style='info', description='Validating', layout=Layout(flex='2'), m…"
     },
     "metadata": {
      "transient": {}
     },
     "output_type": "display_data"
    },
    {
     "data": {
      "application/vnd.jupyter.widget-view+json": {
       "model_id": "c35203f33969403a92c0b0afb265876a",
       "version_major": 2,
       "version_minor": 0
      },
      "text/plain": "HBox(children=(FloatProgress(value=1.0, bar_style='info', description='Validating', layout=Layout(flex='2'), m…"
     },
     "metadata": {
      "transient": {}
     },
     "output_type": "display_data"
    },
    {
     "data": {
      "application/vnd.jupyter.widget-view+json": {
       "model_id": "cef775e70dad4147ae33864d95e1a0ed",
       "version_major": 2,
       "version_minor": 0
      },
      "text/plain": "HBox(children=(FloatProgress(value=1.0, bar_style='info', description='Validating', layout=Layout(flex='2'), m…"
     },
     "metadata": {
      "transient": {}
     },
     "output_type": "display_data"
    },
    {
     "data": {
      "application/vnd.jupyter.widget-view+json": {
       "model_id": "d4afbeb63f0e4ded96d40da2797a1029",
       "version_major": 2,
       "version_minor": 0
      },
      "text/plain": "HBox(children=(FloatProgress(value=1.0, bar_style='info', description='Validating', layout=Layout(flex='2'), m…"
     },
     "metadata": {
      "transient": {}
     },
     "output_type": "display_data"
    },
    {
     "data": {
      "application/vnd.jupyter.widget-view+json": {
       "model_id": "8a7934b584c844be92115fab4bb173a7",
       "version_major": 2,
       "version_minor": 0
      },
      "text/plain": "HBox(children=(FloatProgress(value=1.0, bar_style='info', description='Validating', layout=Layout(flex='2'), m…"
     },
     "metadata": {
      "transient": {}
     },
     "output_type": "display_data"
    },
    {
     "data": {
      "application/vnd.jupyter.widget-view+json": {
       "model_id": "7b13f6390c8d4bfea2fdf7e8eb1e86c3",
       "version_major": 2,
       "version_minor": 0
      },
      "text/plain": "HBox(children=(FloatProgress(value=1.0, bar_style='info', description='Validating', layout=Layout(flex='2'), m…"
     },
     "metadata": {
      "transient": {}
     },
     "output_type": "display_data"
    },
    {
     "data": {
      "application/vnd.jupyter.widget-view+json": {
       "model_id": "69349534fe50401597fdc62f5b59fad2",
       "version_major": 2,
       "version_minor": 0
      },
      "text/plain": "HBox(children=(FloatProgress(value=1.0, bar_style='info', description='Validating', layout=Layout(flex='2'), m…"
     },
     "metadata": {
      "transient": {}
     },
     "output_type": "display_data"
    },
    {
     "data": {
      "application/vnd.jupyter.widget-view+json": {
       "model_id": "3874ef2c11b247df8b59226fb0ebc70e",
       "version_major": 2,
       "version_minor": 0
      },
      "text/plain": "HBox(children=(FloatProgress(value=1.0, bar_style='info', description='Validating', layout=Layout(flex='2'), m…"
     },
     "metadata": {
      "transient": {}
     },
     "output_type": "display_data"
    },
    {
     "data": {
      "application/vnd.jupyter.widget-view+json": {
       "model_id": "fc24cc053d7e47269f38d04feec35eda",
       "version_major": 2,
       "version_minor": 0
      },
      "text/plain": "HBox(children=(FloatProgress(value=1.0, bar_style='info', description='Validating', layout=Layout(flex='2'), m…"
     },
     "metadata": {
      "transient": {}
     },
     "output_type": "display_data"
    },
    {
     "data": {
      "application/vnd.jupyter.widget-view+json": {
       "model_id": "d2acd39a2a074896bf12d1d93c2adffe",
       "version_major": 2,
       "version_minor": 0
      },
      "text/plain": "HBox(children=(FloatProgress(value=1.0, bar_style='info', description='Validating', layout=Layout(flex='2'), m…"
     },
     "metadata": {
      "transient": {}
     },
     "output_type": "display_data"
    },
    {
     "data": {
      "application/vnd.jupyter.widget-view+json": {
       "model_id": "6d4f5af74942484bb2604480e85c5b04",
       "version_major": 2,
       "version_minor": 0
      },
      "text/plain": "HBox(children=(FloatProgress(value=1.0, bar_style='info', description='Validating', layout=Layout(flex='2'), m…"
     },
     "metadata": {
      "transient": {}
     },
     "output_type": "display_data"
    },
    {
     "data": {
      "application/vnd.jupyter.widget-view+json": {
       "model_id": "f7f2f2a7880d47938e18cf27bea18361",
       "version_major": 2,
       "version_minor": 0
      },
      "text/plain": "HBox(children=(FloatProgress(value=1.0, bar_style='info', description='Validating', layout=Layout(flex='2'), m…"
     },
     "metadata": {
      "transient": {}
     },
     "output_type": "display_data"
    },
    {
     "data": {
      "application/vnd.jupyter.widget-view+json": {
       "model_id": "41879c18cf7c475fbd4a07075c0ec7be",
       "version_major": 2,
       "version_minor": 0
      },
      "text/plain": "HBox(children=(FloatProgress(value=1.0, bar_style='info', description='Validating', layout=Layout(flex='2'), m…"
     },
     "metadata": {
      "transient": {}
     },
     "output_type": "display_data"
    },
    {
     "data": {
      "application/vnd.jupyter.widget-view+json": {
       "model_id": "bf566f476caa4c678e753e51840f0690",
       "version_major": 2,
       "version_minor": 0
      },
      "text/plain": "HBox(children=(FloatProgress(value=1.0, bar_style='info', description='Validating', layout=Layout(flex='2'), m…"
     },
     "metadata": {
      "transient": {}
     },
     "output_type": "display_data"
    },
    {
     "data": {
      "application/vnd.jupyter.widget-view+json": {
       "model_id": "364b2910447d4eeaad2558bf4f51744c",
       "version_major": 2,
       "version_minor": 0
      },
      "text/plain": "HBox(children=(FloatProgress(value=1.0, bar_style='info', description='Validating', layout=Layout(flex='2'), m…"
     },
     "metadata": {
      "transient": {}
     },
     "output_type": "display_data"
    },
    {
     "data": {
      "application/vnd.jupyter.widget-view+json": {
       "model_id": "e9b0c7f1312b4fe7a6454be76b9004a8",
       "version_major": 2,
       "version_minor": 0
      },
      "text/plain": "HBox(children=(FloatProgress(value=1.0, bar_style='info', description='Validating', layout=Layout(flex='2'), m…"
     },
     "metadata": {
      "transient": {}
     },
     "output_type": "display_data"
    },
    {
     "data": {
      "application/vnd.jupyter.widget-view+json": {
       "model_id": "88a1c8609d8c4ecd88641dd648d1d7ae",
       "version_major": 2,
       "version_minor": 0
      },
      "text/plain": "HBox(children=(FloatProgress(value=1.0, bar_style='info', description='Validating', layout=Layout(flex='2'), m…"
     },
     "metadata": {
      "transient": {}
     },
     "output_type": "display_data"
    },
    {
     "data": {
      "application/vnd.jupyter.widget-view+json": {
       "model_id": "2cad2b40978c4237b6168a372bd3f7ed",
       "version_major": 2,
       "version_minor": 0
      },
      "text/plain": "HBox(children=(FloatProgress(value=1.0, bar_style='info', description='Validating', layout=Layout(flex='2'), m…"
     },
     "metadata": {
      "transient": {}
     },
     "output_type": "display_data"
    },
    {
     "data": {
      "application/vnd.jupyter.widget-view+json": {
       "model_id": "59504a17ee1f4a1998d0713c2d60d9a4",
       "version_major": 2,
       "version_minor": 0
      },
      "text/plain": "HBox(children=(FloatProgress(value=1.0, bar_style='info', description='Validating', layout=Layout(flex='2'), m…"
     },
     "metadata": {
      "transient": {}
     },
     "output_type": "display_data"
    },
    {
     "data": {
      "application/vnd.jupyter.widget-view+json": {
       "model_id": "66fafebaba8547f19e88c41305071672",
       "version_major": 2,
       "version_minor": 0
      },
      "text/plain": "HBox(children=(FloatProgress(value=1.0, bar_style='info', description='Validating', layout=Layout(flex='2'), m…"
     },
     "metadata": {
      "transient": {}
     },
     "output_type": "display_data"
    },
    {
     "data": {
      "application/vnd.jupyter.widget-view+json": {
       "model_id": "000325d0de924fb69ff0287c4d41627f",
       "version_major": 2,
       "version_minor": 0
      },
      "text/plain": "HBox(children=(FloatProgress(value=1.0, bar_style='info', description='Validating', layout=Layout(flex='2'), m…"
     },
     "metadata": {
      "transient": {}
     },
     "output_type": "display_data"
    },
    {
     "data": {
      "application/vnd.jupyter.widget-view+json": {
       "model_id": "a8016cacbb9f4f3b926f3f03467d0956",
       "version_major": 2,
       "version_minor": 0
      },
      "text/plain": "HBox(children=(FloatProgress(value=1.0, bar_style='info', description='Validating', layout=Layout(flex='2'), m…"
     },
     "metadata": {
      "transient": {}
     },
     "output_type": "display_data"
    },
    {
     "data": {
      "application/vnd.jupyter.widget-view+json": {
       "model_id": "8c7cd040d9df47c2aec07255032e3512",
       "version_major": 2,
       "version_minor": 0
      },
      "text/plain": "HBox(children=(FloatProgress(value=1.0, bar_style='info', description='Validating', layout=Layout(flex='2'), m…"
     },
     "metadata": {
      "transient": {}
     },
     "output_type": "display_data"
    },
    {
     "data": {
      "application/vnd.jupyter.widget-view+json": {
       "model_id": "abfae2e87b6b437c91f68aac5bf91cdc",
       "version_major": 2,
       "version_minor": 0
      },
      "text/plain": "HBox(children=(FloatProgress(value=1.0, bar_style='info', description='Validating', layout=Layout(flex='2'), m…"
     },
     "metadata": {
      "transient": {}
     },
     "output_type": "display_data"
    },
    {
     "data": {
      "application/vnd.jupyter.widget-view+json": {
       "model_id": "69e61547160c41cebc5db81faab4095b",
       "version_major": 2,
       "version_minor": 0
      },
      "text/plain": "HBox(children=(FloatProgress(value=1.0, bar_style='info', description='Validating', layout=Layout(flex='2'), m…"
     },
     "metadata": {
      "transient": {}
     },
     "output_type": "display_data"
    },
    {
     "data": {
      "application/vnd.jupyter.widget-view+json": {
       "model_id": "d076fa11c87148ca8982d8656b059ac4",
       "version_major": 2,
       "version_minor": 0
      },
      "text/plain": "HBox(children=(FloatProgress(value=1.0, bar_style='info', description='Validating', layout=Layout(flex='2'), m…"
     },
     "metadata": {
      "transient": {}
     },
     "output_type": "display_data"
    },
    {
     "data": {
      "application/vnd.jupyter.widget-view+json": {
       "model_id": "54ca4e2552e048ddab2ecf71a711e64d",
       "version_major": 2,
       "version_minor": 0
      },
      "text/plain": "HBox(children=(FloatProgress(value=1.0, bar_style='info', description='Validating', layout=Layout(flex='2'), m…"
     },
     "metadata": {
      "transient": {}
     },
     "output_type": "display_data"
    },
    {
     "data": {
      "application/vnd.jupyter.widget-view+json": {
       "model_id": "6eafb2c50ccc4062becb09ea03844fe4",
       "version_major": 2,
       "version_minor": 0
      },
      "text/plain": "HBox(children=(FloatProgress(value=1.0, bar_style='info', description='Validating', layout=Layout(flex='2'), m…"
     },
     "metadata": {
      "transient": {}
     },
     "output_type": "display_data"
    },
    {
     "data": {
      "application/vnd.jupyter.widget-view+json": {
       "model_id": "d4818832baf7450eb7f4260ca225d3a5",
       "version_major": 2,
       "version_minor": 0
      },
      "text/plain": "HBox(children=(FloatProgress(value=1.0, bar_style='info', description='Validating', layout=Layout(flex='2'), m…"
     },
     "metadata": {
      "transient": {}
     },
     "output_type": "display_data"
    },
    {
     "data": {
      "application/vnd.jupyter.widget-view+json": {
       "model_id": "343161bb502a4e589d2362058c6bdc96",
       "version_major": 2,
       "version_minor": 0
      },
      "text/plain": "HBox(children=(FloatProgress(value=1.0, bar_style='info', description='Validating', layout=Layout(flex='2'), m…"
     },
     "metadata": {
      "transient": {}
     },
     "output_type": "display_data"
    },
    {
     "data": {
      "application/vnd.jupyter.widget-view+json": {
       "model_id": "9fa4d214f8c44c698aa8fc88580a809e",
       "version_major": 2,
       "version_minor": 0
      },
      "text/plain": "HBox(children=(FloatProgress(value=1.0, bar_style='info', description='Validating', layout=Layout(flex='2'), m…"
     },
     "metadata": {
      "transient": {}
     },
     "output_type": "display_data"
    },
    {
     "data": {
      "application/vnd.jupyter.widget-view+json": {
       "model_id": "807b32f459ca4b25a18d68ed38889f4d",
       "version_major": 2,
       "version_minor": 0
      },
      "text/plain": "HBox(children=(FloatProgress(value=1.0, bar_style='info', description='Testing', layout=Layout(flex='2'), max=…"
     },
     "metadata": {
      "transient": {}
     },
     "output_type": "display_data"
    }
   ],
   "source": [
    "import datetime\n",
    "import torch\n",
    "import pytorch_lightning as lit\n",
    "from pytorch_lightning.callbacks import ModelCheckpoint, EarlyStopping\n",
    "from pytorch_lightning.loggers import TensorBoardLogger\n",
    "from torch.utils.data import DataLoader\n",
    "\n",
    "from reappraisalmodel.lightningreapp import LightningReapp\n",
    "from reappraisalmodel.ldhdata import LDHDataModule\n",
    "\n",
    "\n",
    "STRAT = 'obj'\n",
    "BATCH_SIZE = 64\n",
    "NUM_FOLDS=5\n",
    "\n",
    "ldhdata = LDHDataModule(data_dir='.', strat=STRAT)\n",
    "\n",
    "\n",
    "ldhdata.load_train_data()\n",
    "ldhdata.load_eval_data()\n",
    "# Define constants\n",
    "\n",
    "model = LightningReapp()\n",
    "\n",
    "modelcheckpoint = ModelCheckpoint(\n",
    "    monitor='val_loss',\n",
    "    mode='min',\n",
    "    save_top_k=3,\n",
    "    verbose=True\n",
    "    )\n",
    "\n",
    "\n",
    "\n",
    "ldhdata.train_data.set_format(type='torch', columns=['score', 'input_ids', 'attention_mask'])\n",
    "data = ldhdata.train_data.train_test_split(test_size=0.2)\n",
    "train_data = data['train']\n",
    "val_data = data['test']\n",
    "train_dl = DataLoader(train_data, batch_size=BATCH_SIZE, num_workers=4,shuffle=True)\n",
    "val_dl = DataLoader(val_data, batch_size=BATCH_SIZE, shuffle=True, num_workers=4)\n",
    "\n",
    "today = datetime.datetime.today().strftime('%Y%m%d_%H%M%S')\n",
    "trainer = lit.Trainer(\n",
    "    logger = TensorBoardLogger(\"lightning_logs\", name=\"reapp_model\", version=\"_\".join([STRAT,today])),\n",
    "    precision=16,\n",
    "    max_epochs=30,\n",
    "    val_check_interval=0.25,\n",
    "    gpus=1)\n",
    "\n",
    "results = trainer.fit(model, train_dl, val_dl)\n",
    "\n",
    "ldhdata.eval_data.set_format(type='torch', columns=['input_ids', 'attention_mask'])\n",
    "eval_data = ldhdata.eval_data\n",
    "eval_dl = DataLoader(eval_data, batch_size=BATCH_SIZE, num_workers=4,shuffle=True)\n",
    "\n",
    "results = trainer.test(model, eval_dl)\n",
    "\n",
    "import pickle\n",
    "with open(\"results_obj\", \"wb+\") as f:\n",
    "    pickle.dump(results, f)"
   ]
  },
  {
   "cell_type": "code",
   "execution_count": null,
   "metadata": {},
   "outputs": [],
   "source": [
    "cpuouts = [ten.detach().cpu().tolist() for ten in objouts]\n",
    "\n",
    "\n",
    "newouts = []\n",
    "for batch in cpuouts:\n",
    "    newouts += batch\n",
    "len(newouts)\n",
    "\n",
    "import pandas as pd\n",
    "objdata = ldhdata.train_data\n",
    "objdata.reset_format()\n",
    "\n",
    "objdf = pd.DataFrame(objdata, columns=['response', 'score'])\n",
    "objdf[['observed']] = newouts\n"
   ]
  },
  {
   "cell_type": "code",
   "execution_count": null,
   "metadata": {},
   "outputs": [],
   "source": [
    "objdf.to_csv(\"./study1full_scored_far.csv\")"
   ]
  },
  {
   "cell_type": "code",
   "execution_count": null,
   "metadata": {},
   "outputs": [],
   "source": [
    "farmodel = LightningReapp.load_from_checkpoint(\"s3://ldhdata/backup/far-0224-epoch=2-step=2021.ckpt\")\n",
    "farldhdata = LDHDataModule(data_dir='.', strat='far')\n",
    "farldhdata.load_train_data()\n",
    "ldhdata.train_data.set_format(type='torch', columns=['input_ids', 'attention_mask', 'score'])\n",
    "fardl = torch.utils.data.DataLoader(ldhdata.train_data,batch_size=BATCH_SIZE, shuffle=True, pin_memory=True)\n",
    "farouts = []\n",
    "farmodel.cuda()\n",
    "print(\"Sent model to GPU\")\n",
    "farmodel.eval()"
   ]
  },
  {
   "cell_type": "code",
   "execution_count": null,
   "metadata": {},
   "outputs": [],
   "source": [
    "for idx, batch in enumerate(tqdm(fardl)):\n",
    "    if idx >= 10:\n",
    "        break\n",
    "    input_ids = batch['input_ids'].cuda()\n",
    "    attention_mask = batch['attention_mask'].cuda()\n",
    "    farout = farmodel(input_ids, attention_mask)\n",
    "    farouts.append(out.sum(dim=1).to('cpu'))"
   ]
  },
  {
   "cell_type": "raw",
   "metadata": {},
   "source": []
  },
  {
   "cell_type": "code",
   "execution_count": null,
   "metadata": {},
   "outputs": [],
   "source": [
    "cpuouts = [ten.detach().cpu().tolist() for ten in farouts]\n",
    "\n",
    "\n",
    "newouts = []\n",
    "for batch in cpuouts:\n",
    "    newouts += batch\n",
    "len(newouts)\n",
    "\n",
    "traindata = ldhdata.train_data\n",
    "\n",
    "traindata.reset_format()\n",
    "\n",
    "import pandas as pd\n",
    "far_df = pd.DataFrame(ldhdata.train_data[:len(newouts)], columns=['response', 'score', 'observed'])\n",
    "far_df[['observed']] = newouts"
   ]
  },
  {
   "cell_type": "code",
   "execution_count": null,
   "metadata": {},
   "outputs": [],
   "source": [
    "far_df\n",
    "far_df.to_csv('study1subset_scored_far.csv')"
   ]
  },
  {
   "cell_type": "code",
   "execution_count": null,
   "metadata": {},
   "outputs": [],
   "source": [
    "# hide\n",
    "# Returns a BatchEncoding of the text.\n",
    "tokenized = tokenizer(text = [\"This is the first test sentence!\", \"This is the second, better test sentence.\"], \n",
    "    padding='max_length', max_length=150)\n",
    "\n",
    "for idx, sent in enumerate(tokenized.input_ids):\n",
    "    print(f\"Sentence            {idx}: {tokenizer.convert_ids_to_tokens(sent)}\")\n",
    "    print(f\"Tokenized Attention {idx}: {tokenized[idx].attention_mask}\")\n",
    "\n"
   ]
  },
  {
   "cell_type": "code",
   "execution_count": null,
   "metadata": {},
   "outputs": [
    {
     "name": "stderr",
     "output_type": "stream",
     "text": [
      "GPU available: True, used: True\n",
      "TPU available: None, using: 0 TPU cores\n",
      "Running in fast_dev_run mode: will run a full train, val and test loop using 2 batch(es).\n",
      "\n",
      "  | Name       | Type             | Params\n",
      "------------------------------------------------\n",
      "0 | bert       | DistilBertModel  | 66.4 M\n",
      "1 | classifier | Sequential       | 38.8 K\n",
      "2 | train_loss | MeanSquaredError | 0     \n",
      "3 | val_loss   | MeanSquaredError | 0     \n",
      "------------------------------------------------\n",
      "38.8 K    Trainable params\n",
      "66.4 M    Non-trainable params\n",
      "66.4 M    Total params\n",
      "265.607   Total estimated model params size (MB)\n"
     ]
    },
    {
     "data": {
      "application/vnd.jupyter.widget-view+json": {
       "model_id": "3b02ed55d86d41aa95416829109afba2",
       "version_major": 2,
       "version_minor": 0
      },
      "text/plain": "HBox(children=(FloatProgress(value=1.0, bar_style='info', description='Training', layout=Layout(flex='2'), max…"
     },
     "metadata": {
      "transient": {}
     },
     "output_type": "display_data"
    },
    {
     "name": "stdout",
     "output_type": "stream",
     "text": [
      "{'attention_mask': tensor([[1, 1, 1,  ..., 0, 0, 0],\n",
      "        [1, 1, 1,  ..., 0, 0, 0],\n",
      "        [1, 1, 1,  ..., 0, 0, 0],\n",
      "        ...,\n",
      "        [1, 1, 1,  ..., 0, 0, 0],\n",
      "        [1, 1, 1,  ..., 0, 0, 0],\n",
      "        [1, 1, 1,  ..., 0, 0, 0]], device='cuda:0'), 'input_ids': tensor([[ 101, 2045, 2003,  ...,    0,    0,    0],\n",
      "        [ 101, 2045, 2003,  ...,    0,    0,    0],\n",
      "        [ 101, 1996, 2775,  ...,    0,    0,    0],\n",
      "        ...,\n",
      "        [ 101, 2009, 3504,  ...,    0,    0,    0],\n",
      "        [ 101, 3745, 2062,  ...,    0,    0,    0],\n",
      "        [ 101, 2010, 2970,  ...,    0,    0,    0]], device='cuda:0'), 'score': tensor([3.7500, 1.5000, 2.0000, 1.6667, 2.0000, 2.0000, 2.2000, 1.0000, 1.6667,\n",
      "        1.6667, 3.0000, 2.6000, 2.5000, 1.8000, 1.0000, 2.3333],\n",
      "       device='cuda:0')}\n",
      "{'attention_mask': tensor([[1, 1, 1,  ..., 0, 0, 0],\n",
      "        [1, 1, 1,  ..., 0, 0, 0],\n",
      "        [1, 1, 1,  ..., 0, 0, 0],\n",
      "        ...,\n",
      "        [1, 1, 1,  ..., 0, 0, 0],\n",
      "        [1, 1, 1,  ..., 0, 0, 0],\n",
      "        [1, 1, 1,  ..., 0, 0, 0]], device='cuda:0'), 'input_ids': tensor([[ 101, 2009, 3504,  ...,    0,    0,    0],\n",
      "        [ 101, 2048, 4268,  ...,    0,    0,    0],\n",
      "        [ 101, 2643, 4282,  ...,    0,    0,    0],\n",
      "        ...,\n",
      "        [ 101, 1037, 2200,  ...,    0,    0,    0],\n",
      "        [ 101, 2009, 3084,  ...,    0,    0,    0],\n",
      "        [ 101, 4274, 4942,  ...,    0,    0,    0]], device='cuda:0'), 'score': tensor([1.8000, 2.3333, 1.1250, 1.2000, 2.3333, 2.7500, 1.2500, 3.0000, 2.6667,\n",
      "        2.0000, 4.6667, 1.5000, 2.0000, 1.0000, 3.6667, 3.2000],\n",
      "       device='cuda:0')}\n",
      "\n"
     ]
    },
    {
     "data": {
      "application/vnd.jupyter.widget-view+json": {
       "model_id": "8b0ba39b35b845c09ac7e992d42ac64e",
       "version_major": 2,
       "version_minor": 0
      },
      "text/plain": "HBox(children=(FloatProgress(value=1.0, bar_style='info', description='Validating', layout=Layout(flex='2'), m…"
     },
     "metadata": {
      "transient": {}
     },
     "output_type": "display_data"
    },
    {
     "data": {
      "text/plain": "1"
     },
     "execution_count": null,
     "metadata": {},
     "output_type": "execute_result"
    }
   ],
   "source": [
    "%autoreload\n",
    "import torch\n",
    "import pytorch_lightning as lit\n",
    "from reappraisalmodel.lightningreapp import LightningReapp\n",
    "\n",
    "default_config = default_config = {\n",
    "    'lr': 1e-3,\n",
    "    'hidden_layer_size': 50\n",
    "}\n",
    "\n",
    "model = LightningReapp(default_config)\n",
    "\n",
    "trainer = lit.Trainer(\n",
    "    gpus = 1 if torch.cuda.is_available() else None,\n",
    "    gradient_clip_val=1.0,\n",
    "    progress_bar_refresh_rate=30,\n",
    "    max_epochs=10,\n",
    "    fast_dev_run=2,\n",
    "    terminate_on_nan=True)\n",
    "\n",
    "model = LightningReapp(default_config)\n",
    "\n",
    "trainer.fit(model, ldhdata.train_dataloader(), ldhdata.val_dataloader())"
   ]
  },
  {
   "cell_type": "code",
   "execution_count": null,
   "metadata": {},
   "outputs": [],
   "source": []
  }
 ],
 "metadata": {
  "kernelspec": {
   "display_name": "Python 3",
   "language": "python",
   "name": "python3"
  }
 },
 "nbformat": 4,
 "nbformat_minor": 4
}
