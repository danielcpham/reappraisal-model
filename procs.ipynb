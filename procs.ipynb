{
 "cells": [
  {
   "cell_type": "markdown",
   "metadata": {},
   "source": [
    "# Reappraisal Training on PyTorch Lightning"
   ]
  },
  {
   "cell_type": "markdown",
   "metadata": {},
   "source": [
    "## Setup\n",
    "- Required Python Version: 3.7+\n",
    "- `cd` into the project root and install dependencies:\n",
    "  - `pip install -r requirements.txt`"
   ]
  },
  {
   "cell_type": "markdown",
   "metadata": {},
   "source": [
    "### Colab\n",
    "- When the repository is stored on Google Drive, it can be accessed using Google Colaboratory. The cell below mounts the drive, installs the necessary packages, and changes the root directory to the project directory.\n",
    "    - Python Version: `3.7.10`\n",
    "    - Be sure to change the name of the project directory. "
   ]
  },
  {
   "cell_type": "code",
   "execution_count": null,
   "metadata": {},
   "outputs": [
    {
     "name": "stdout",
     "output_type": "stream",
     "text": [
      "/Users/danielpham/Google Drive/ldh\n"
     ]
    },
    {
     "name": "stderr",
     "output_type": "stream",
     "text": [
      "[nltk_data] Downloading package punkt to\n",
      "[nltk_data]     /Users/danielpham/nltk_data...\n",
      "[nltk_data]   Package punkt is already up-to-date!\n"
     ]
    }
   ],
   "source": [
    "# When Running on Colab\n",
    "# from google.colab import drive\n",
    "# drive.mount('/content/drive')\n",
    "\n",
    "# %pip install pytorch-lightning \"ray[tune]\" wandb transformers datasets nltk nbdev\n",
    "# ! nbdev_install_git_hooks\n",
    "\n",
    "import nltk\n",
    "nltk.download('punkt')\n",
    "\n",
    "# ROOT_DIR = '/content/drive/MyDrive/ldh'\n",
    "ROOT_DIR = \".\";\n",
    "%cd {ROOT_DIR}"
   ]
  },
  {
   "cell_type": "markdown",
   "metadata": {},
   "source": [
    "## Loading and Encoding Data"
   ]
  },
  {
   "cell_type": "code",
   "execution_count": null,
   "metadata": {},
   "outputs": [],
   "source": [
    "%load_ext autoreload\n",
    "import os\n",
    "import torch\n",
    "\n",
    "# Define project root directory.\n",
    "ROOT_DIR = os.path.abspath(\".\")\n",
    "STRAT = 'obj'\n",
    "BATCH_SIZE = 64\n",
    "NUM_FOLDS=5\n",
    "DEV_FLAG = 1 # Flag for fast runs when debugging.\n",
    "\n",
    "# Load the DataModule and its corresponding \n",
    "from reappraisalmodel.ldhdata import LDHDataModule\n",
    "ldhdata = LDHDataModule(data_dir=ROOT_DIR, strat=STRAT)\n",
    "ldhdata.load_train_data()\n",
    "ldhdata.load_eval_data()"
   ]
  },
  {
   "cell_type": "code",
   "execution_count": null,
   "metadata": {},
   "outputs": [],
   "source": []
  },
  {
   "cell_type": "markdown",
   "metadata": {},
   "source": [
    "# Load Model\n",
    "- Can be done through checkpoint. "
   ]
  },
  {
   "cell_type": "markdown",
   "metadata": {},
   "source": [
    "## Run K-Fold Training\n",
    "- See `./nbs/Trainers.ipynb`\n"
   ]
  },
  {
   "cell_type": "code",
   "execution_count": null,
   "metadata": {},
   "outputs": [],
   "source": [
    "%autoreload 2\n",
    "from reappraisalmodel.trainers import kfold_train\n",
    "# Learns a model NUM_FOLDS times and records the distribution of metrics across the CV.\n",
    "results = kfold_train(\n",
    "    NUM_FOLDS, \n",
    "    ldhdata, \n",
    "    strat=STRAT, \n",
    ")"
   ]
  },
  {
   "cell_type": "code",
   "execution_count": null,
   "metadata": {},
   "outputs": [],
   "source": [
    "import pandas as pd\n",
    "\n",
    "df = pd.DataFrame(results)\n",
    "df['r2score'] = df['r2score'].apply(lambda x: x.item())\n",
    "df['explained_var'] = df['explained_var'].apply(lambda x: x.item())\n",
    "df.describe()"
   ]
  },
  {
   "cell_type": "markdown",
   "metadata": {},
   "source": [
    "## Testing on LDH II Data"
   ]
  },
  {
   "cell_type": "markdown",
   "metadata": {},
   "source": [
    "# Training Process"
   ]
  },
  {
   "cell_type": "markdown",
   "metadata": {},
   "source": [
    "## Test Models (Manual)"
   ]
  },
  {
   "cell_type": "code",
   "execution_count": null,
   "metadata": {},
   "outputs": [],
   "source": [
    "%autoreload\n",
    "from reappraisalmodel.lightningreapp import LightningReapp\n",
    "objmodel = LightningReapp.load_from_checkpoint(\"s3://ldhdata/backup/far-0224-epoch=2-step=2021.ckpt\")"
   ]
  },
  {
   "cell_type": "code",
   "execution_count": null,
   "metadata": {},
   "outputs": [],
   "source": [
    "from tqdm import tqdm\n",
    "objmodel.cuda()\n",
    "objmodel.eval()\n",
    "objouts = []\n",
    "for batch_idx, batch in enumerate(tqdm(objdl)):\n",
    "    input_ids = batch['input_ids'].cuda()\n",
    "    attention_mask = batch['attention_mask'].cuda()\n",
    "    out = objmodel(input_ids, attention_mask)\n",
    "    objouts.append(out.sum(dim=1))\n",
    "print(objouts)"
   ]
  },
  {
   "cell_type": "markdown",
   "metadata": {},
   "source": [
    "## Single Training Session"
   ]
  },
  {
   "cell_type": "code",
   "execution_count": null,
   "metadata": {},
   "outputs": [
    {
     "name": "stderr",
     "output_type": "stream",
     "text": [
      "/usr/local/lib/python3.7/dist-packages/pytorch_lightning/utilities/distributed.py:51: UserWarning: Metric `ExplainedVariance` will save all targets and predictions in buffer. For large datasets this may lead to large memory footprint.\n",
      "  warnings.warn(*args, **kwargs)\n",
      "GPU available: True, used: True\n",
      "TPU available: None, using: 0 TPU cores\n",
      "Using native 16bit precision.\n",
      "Running in fast_dev_run mode: will run a full train, val and test loop using 2 batch(es).\n"
     ]
    }
   ],
   "source": [
    "%autoreload\n",
    "import pickle\n",
    "\n",
    "from datetime import datetime\n",
    "from tqdm import tqdm\n",
    "\n",
    "import pandas as pd\n",
    "import torch\n",
    "import pytorch_lightning as lit\n",
    "from pytorch_lightning.callbacks import ModelCheckpoint\n",
    "from pytorch_lightning.loggers import TensorBoardLogger\n",
    "from torch.utils.data import DataLoader\n",
    "\n",
    "from reappraisalmodel.lightningreapp import LightningReapp\n",
    "\n",
    "model = LightningReapp()\n",
    "\n",
    "# Model saves the 3 checkpoints with the lowest validation loss throughout training\n",
    "modelcheckpoint = ModelCheckpoint(\n",
    "    monitor='val_loss',\n",
    "    mode='min',\n",
    "    save_top_k=3,\n",
    "    verbose=True\n",
    ")\n",
    "# Model tracks the loss_distance; shows when training and validation loss begin to diverge \n",
    "modelcheckpoint_loss_dist = ModelCheckpoint(\n",
    "    monitor='loss_distance',\n",
    "    mode='min',\n",
    "    save_top_k=3,\n",
    "    verbose=True\n",
    ")\n",
    "\n",
    "# Split train and validation data.\n",
    "split_data = ldhdata.train_data.train_test_split(test_size=0.2)\n",
    "train_data = split_data['train'].with_format(type='torch', columns=['score', 'input_ids', 'attention_mask'])\n",
    "val_data = split_data['test'].with_format(type='torch', columns=['score', 'input_ids', 'attention_mask'])\n",
    "eval_data = ldhdata.eval_data.with_format(type='torch', columns=['input_ids', 'attention_mask'])\n",
    "\n",
    "# Create dataloaders\n",
    "train_dl = DataLoader(train_data, batch_size=BATCH_SIZE)\n",
    "val_dl = DataLoader(val_data, batch_size=BATCH_SIZE )\n",
    "eval_dl = DataLoader(eval_data, batch_size=BATCH_SIZE)\n",
    "\n",
    "# Mark the start time of the training session. \n",
    "today = datetime.today().strftime('%Y%m%d_%H%M%S')\n",
    "session_version = \"_\".join([STRAT,today])\n",
    "tb_logger = TensorBoardLogger(\"lightning_logs\", name=\"reapp_model\", version=session_version)\n",
    "trainer = lit.Trainer(\n",
    "    logger = tb_logger,\n",
    "    precision=16 if torch.cuda.is_available() else 32, # We use 16-bit precision to reduce computational complexity\n",
    "    val_check_interval=0.25, # Check validation loss 4 times an epoch\n",
    "    callbacks=[modelcheckpoint, modelcheckpoint_loss_dist], # Register callbacks with trainer.\n",
    "    gpus=1 if torch.cuda.is_available() else None,\n",
    ")\n",
    "\n",
    "\n",
    "# results = trainer.fit(model, train_dl, val_dl)\n"
   ]
  },
  {
   "cell_type": "markdown",
   "metadata": {},
   "source": [
    "## Predictions on Study 2 Data"
   ]
  },
  {
   "cell_type": "code",
   "execution_count": null,
   "metadata": {},
   "outputs": [
    {
     "name": "stderr",
     "output_type": "stream",
     "text": [
      "\n",
      "\n",
      "\n",
      "\n",
      "  0%|          | 0/502 [00:00<?, ?it/s]\u001b[A\u001b[A\u001b[A\u001b[A\n",
      "\n",
      "\n",
      "\n",
      "  0%|          | 1/502 [00:00<01:22,  6.08it/s]\u001b[A\u001b[A\u001b[A\u001b[A\n",
      "\n",
      "\n",
      "\n",
      "  0%|          | 2/502 [00:00<01:44,  4.78it/s]\n"
     ]
    },
    {
     "data": {
      "text/html": [
       "<div>\n",
       "<style scoped>\n",
       "    .dataframe tbody tr th:only-of-type {\n",
       "        vertical-align: middle;\n",
       "    }\n",
       "\n",
       "    .dataframe tbody tr th {\n",
       "        vertical-align: top;\n",
       "    }\n",
       "\n",
       "    .dataframe thead th {\n",
       "        text-align: right;\n",
       "    }\n",
       "</style>\n",
       "<table border=\"1\" class=\"dataframe\">\n",
       "  <thead>\n",
       "    <tr style=\"text-align: right;\">\n",
       "      <th></th>\n",
       "      <th>response</th>\n",
       "      <th>observed</th>\n",
       "    </tr>\n",
       "  </thead>\n",
       "  <tbody>\n",
       "    <tr>\n",
       "      <th>0</th>\n",
       "      <td>this is a photo of a man and woman who look li...</td>\n",
       "      <td>0.542543</td>\n",
       "    </tr>\n",
       "    <tr>\n",
       "      <th>1</th>\n",
       "      <td>the man and woman a. this photo is of a child ...</td>\n",
       "      <td>0.505585</td>\n",
       "    </tr>\n",
       "    <tr>\n",
       "      <th>2</th>\n",
       "      <td>the child has a pained expression on its face ...</td>\n",
       "      <td>0.495090</td>\n",
       "    </tr>\n",
       "    <tr>\n",
       "      <th>3</th>\n",
       "      <td>this is two hands holding a small gun.</td>\n",
       "      <td>0.245818</td>\n",
       "    </tr>\n",
       "    <tr>\n",
       "      <th>4</th>\n",
       "      <td>the hands have long nails, and the gun is eith...</td>\n",
       "      <td>0.358046</td>\n",
       "    </tr>\n",
       "    <tr>\n",
       "      <th>...</th>\n",
       "      <td>...</td>\n",
       "      <td>...</td>\n",
       "    </tr>\n",
       "    <tr>\n",
       "      <th>123</th>\n",
       "      <td>A man has a deformed face from a chemical acci...</td>\n",
       "      <td>0.535275</td>\n",
       "    </tr>\n",
       "    <tr>\n",
       "      <th>124</th>\n",
       "      <td>A man who was once a psychopath has a disgusti...</td>\n",
       "      <td>0.523399</td>\n",
       "    </tr>\n",
       "    <tr>\n",
       "      <th>125</th>\n",
       "      <td>This child suffers from a stab one that happen...</td>\n",
       "      <td>0.450596</td>\n",
       "    </tr>\n",
       "    <tr>\n",
       "      <th>126</th>\n",
       "      <td>A boy is at the dentist.</td>\n",
       "      <td>0.453862</td>\n",
       "    </tr>\n",
       "    <tr>\n",
       "      <th>127</th>\n",
       "      <td>When he was younger, He had a cavity removed..</td>\n",
       "      <td>0.442710</td>\n",
       "    </tr>\n",
       "  </tbody>\n",
       "</table>\n",
       "<p>128 rows × 2 columns</p>\n",
       "</div>"
      ],
      "text/plain": [
       "                                              response  observed\n",
       "0    this is a photo of a man and woman who look li...  0.542543\n",
       "1    the man and woman a. this photo is of a child ...  0.505585\n",
       "2    the child has a pained expression on its face ...  0.495090\n",
       "3               this is two hands holding a small gun.  0.245818\n",
       "4    the hands have long nails, and the gun is eith...  0.358046\n",
       "..                                                 ...       ...\n",
       "123  A man has a deformed face from a chemical acci...  0.535275\n",
       "124  A man who was once a psychopath has a disgusti...  0.523399\n",
       "125  This child suffers from a stab one that happen...  0.450596\n",
       "126                           A boy is at the dentist.  0.453862\n",
       "127     When he was younger, He had a cavity removed..  0.442710\n",
       "\n",
       "[128 rows x 2 columns]"
      ]
     },
     "execution_count": null,
     "metadata": {},
     "output_type": "execute_result"
    }
   ],
   "source": [
    "outs = []\n",
    "device = 'cuda' if torch.cuda.is_available() else 'cpu'\n",
    "model.to(device)\n",
    "for idx, batch in enumerate(tqdm(eval_dl)):\n",
    "    if DEV_FLAG and idx >= 2:\n",
    "        break\n",
    "    input_ids = batch['input_ids'].to(device)\n",
    "    attention_mask = batch['attention_mask'].to(device)\n",
    "    out = model(input_ids, attention_mask)\n",
    "    outs.append(out.sum(dim=1).detach().cpu().tolist())\n",
    "newouts = []\n",
    "for batch in outs:\n",
    "    newouts += batch\n",
    "\n",
    "df = pd.DataFrame(ldhdata.eval_data[:len(newouts)], columns=['response', 'observed'])\n",
    "df[['observed']] = newouts\n",
    "df"
   ]
  },
  {
   "cell_type": "markdown",
   "metadata": {},
   "source": [
    "## Prediction on Study 1 Data"
   ]
  },
  {
   "cell_type": "code",
   "execution_count": null,
   "metadata": {},
   "outputs": [
    {
     "name": "stderr",
     "output_type": "stream",
     "text": [
      "\n",
      "\n",
      "\n",
      "\n",
      "  0%|          | 0/164 [00:00<?, ?it/s]\u001b[A\u001b[A\u001b[A\u001b[A\n",
      "\n",
      "\n",
      "\n",
      "  1%|          | 1/164 [00:00<00:28,  5.77it/s]\u001b[A\u001b[A\u001b[A\u001b[A\n",
      "\n",
      "\n",
      "\n",
      "  1%|          | 2/164 [00:00<00:28,  5.69it/s]\u001b[A\u001b[A\u001b[A\u001b[A"
     ]
    },
    {
     "data": {
      "text/html": [
       "<div>\n",
       "<style scoped>\n",
       "    .dataframe tbody tr th:only-of-type {\n",
       "        vertical-align: middle;\n",
       "    }\n",
       "\n",
       "    .dataframe tbody tr th {\n",
       "        vertical-align: top;\n",
       "    }\n",
       "\n",
       "    .dataframe thead th {\n",
       "        text-align: right;\n",
       "    }\n",
       "</style>\n",
       "<table border=\"1\" class=\"dataframe\">\n",
       "  <thead>\n",
       "    <tr style=\"text-align: right;\">\n",
       "      <th></th>\n",
       "      <th>response</th>\n",
       "      <th>score</th>\n",
       "      <th>observed</th>\n",
       "    </tr>\n",
       "  </thead>\n",
       "  <tbody>\n",
       "    <tr>\n",
       "      <th>0</th>\n",
       "      <td>Like he's looking out and trying to think abo...</td>\n",
       "      <td>1.75</td>\n",
       "      <td>0.168645</td>\n",
       "    </tr>\n",
       "    <tr>\n",
       "      <th>1</th>\n",
       "      <td>A man has a knife close to the throat of a wo...</td>\n",
       "      <td>6.50</td>\n",
       "      <td>0.143740</td>\n",
       "    </tr>\n",
       "    <tr>\n",
       "      <th>2</th>\n",
       "      <td>He is in a kitchen that is kind of bare.</td>\n",
       "      <td>4.00</td>\n",
       "      <td>0.169842</td>\n",
       "    </tr>\n",
       "    <tr>\n",
       "      <th>3</th>\n",
       "      <td>A man is staring at the camera and looks upset.</td>\n",
       "      <td>2.75</td>\n",
       "      <td>0.106481</td>\n",
       "    </tr>\n",
       "    <tr>\n",
       "      <th>4</th>\n",
       "      <td>A woman is holding a child.</td>\n",
       "      <td>6.00</td>\n",
       "      <td>0.122527</td>\n",
       "    </tr>\n",
       "    <tr>\n",
       "      <th>...</th>\n",
       "      <td>...</td>\n",
       "      <td>...</td>\n",
       "      <td>...</td>\n",
       "    </tr>\n",
       "    <tr>\n",
       "      <th>123</th>\n",
       "      <td>His finger was on the trigger, ready to fire.</td>\n",
       "      <td>5.25</td>\n",
       "      <td>0.275535</td>\n",
       "    </tr>\n",
       "    <tr>\n",
       "      <th>124</th>\n",
       "      <td>also could be gooby from meet the robinsons l...</td>\n",
       "      <td>2.50</td>\n",
       "      <td>0.138392</td>\n",
       "    </tr>\n",
       "    <tr>\n",
       "      <th>125</th>\n",
       "      <td>I love to see a child reading and she already...</td>\n",
       "      <td>1.50</td>\n",
       "      <td>0.060412</td>\n",
       "    </tr>\n",
       "    <tr>\n",
       "      <th>126</th>\n",
       "      <td>I don't really feel anything to this because ...</td>\n",
       "      <td>1.75</td>\n",
       "      <td>0.158868</td>\n",
       "    </tr>\n",
       "    <tr>\n",
       "      <th>127</th>\n",
       "      <td>“’It’s the very first time in Belgium that a [...</td>\n",
       "      <td>4.75</td>\n",
       "      <td>0.280161</td>\n",
       "    </tr>\n",
       "  </tbody>\n",
       "</table>\n",
       "<p>128 rows × 3 columns</p>\n",
       "</div>"
      ],
      "text/plain": [
       "                                              response  score  observed\n",
       "0     Like he's looking out and trying to think abo...   1.75  0.168645\n",
       "1     A man has a knife close to the throat of a wo...   6.50  0.143740\n",
       "2             He is in a kitchen that is kind of bare.   4.00  0.169842\n",
       "3      A man is staring at the camera and looks upset.   2.75  0.106481\n",
       "4                          A woman is holding a child.   6.00  0.122527\n",
       "..                                                 ...    ...       ...\n",
       "123      His finger was on the trigger, ready to fire.   5.25  0.275535\n",
       "124   also could be gooby from meet the robinsons l...   2.50  0.138392\n",
       "125   I love to see a child reading and she already...   1.50  0.060412\n",
       "126   I don't really feel anything to this because ...   1.75  0.158868\n",
       "127  “’It’s the very first time in Belgium that a [...   4.75  0.280161\n",
       "\n",
       "[128 rows x 3 columns]"
      ]
     },
     "execution_count": null,
     "metadata": {},
     "output_type": "execute_result"
    }
   ],
   "source": [
    "outs = []\n",
    "device = 'cuda' if torch.cuda.is_available() else 'cpu'\n",
    "model.to(device)\n",
    "for idx, batch in enumerate(tqdm(train_dl)):\n",
    "    if DEV_FLAG and idx >= 2:\n",
    "        break\n",
    "    input_ids = batch['input_ids'].to(device)\n",
    "    attention_mask = batch['attention_mask'].to(device)\n",
    "    out = model(input_ids, attention_mask)\n",
    "    outs.append(out.sum(dim=1).detach().cpu().tolist())\n",
    "newouts = []\n",
    "for batch in outs:\n",
    "    newouts += batch\n",
    "df = pd.DataFrame(ldhdata.train_data[:len(newouts)], columns=['response', 'score', 'observed'])\n",
    "df[['observed']] = newouts\n",
    "df"
   ]
  }
 ],
 "metadata": {
  "kernelspec": {
   "display_name": "Python 3",
   "language": "python",
   "name": "python3"
  }
 },
 "nbformat": 4,
 "nbformat_minor": 0
}
